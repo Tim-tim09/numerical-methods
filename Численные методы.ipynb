{
 "cells": [
  {
   "cell_type": "markdown",
   "metadata": {},
   "source": [
    "# Определение стоимости автомобилей"
   ]
  },
  {
   "cell_type": "markdown",
   "metadata": {},
   "source": [
    "Сервис по продаже автомобилей с пробегом «Не бит, не крашен» разрабатывает приложение для привлечения новых клиентов. В нём можно быстро узнать рыночную стоимость своего автомобиля. В вашем распоряжении исторические данные: технические характеристики, комплектации и цены автомобилей. Вам нужно построить модель для определения стоимости. \n",
    "\n",
    "Заказчику важны:\n",
    "\n",
    "- качество предсказания;\n",
    "- скорость предсказания;\n",
    "- время обучения."
   ]
  },
  {
   "cell_type": "markdown",
   "metadata": {},
   "source": [
    "# Импорт библиотек"
   ]
  },
  {
   "cell_type": "code",
   "execution_count": 1,
   "metadata": {},
   "outputs": [],
   "source": [
    "import warnings\n",
    "warnings.filterwarnings(\"ignore\", category=FutureWarning)"
   ]
  },
  {
   "cell_type": "code",
   "execution_count": 2,
   "metadata": {},
   "outputs": [],
   "source": [
    "import pandas as pd\n",
    "import matplotlib.pyplot as plt\n",
    "import numpy as np\n",
    "import seaborn as sns\n",
    "from sklearn.preprocessing import OneHotEncoder, StandardScaler\n",
    "from sklearn.compose import ColumnTransformer\n",
    "from sklearn.impute import SimpleImputer\n",
    "from sklearn.pipeline import Pipeline\n",
    "from sklearn.tree import DecisionTreeRegressor\n",
    "from sklearn.metrics import mean_squared_error\n",
    "from sklearn.model_selection import train_test_split, GridSearchCV\n",
    "from lightgbm import LGBMRegressor\n",
    "from time import time\n",
    "import timeit"
   ]
  },
  {
   "cell_type": "markdown",
   "metadata": {},
   "source": [
    "## Подготовка данных"
   ]
  },
  {
   "cell_type": "markdown",
   "metadata": {},
   "source": [
    "### Загрузка данных"
   ]
  },
  {
   "cell_type": "code",
   "execution_count": 3,
   "metadata": {},
   "outputs": [],
   "source": [
    "df = pd.read_csv(\"/datasets/autos.csv\")"
   ]
  },
  {
   "cell_type": "markdown",
   "metadata": {},
   "source": [
    "### Изучение данных"
   ]
  },
  {
   "cell_type": "code",
   "execution_count": 4,
   "metadata": {},
   "outputs": [
    {
     "data": {
      "text/html": [
       "<div>\n",
       "<style scoped>\n",
       "    .dataframe tbody tr th:only-of-type {\n",
       "        vertical-align: middle;\n",
       "    }\n",
       "\n",
       "    .dataframe tbody tr th {\n",
       "        vertical-align: top;\n",
       "    }\n",
       "\n",
       "    .dataframe thead th {\n",
       "        text-align: right;\n",
       "    }\n",
       "</style>\n",
       "<table border=\"1\" class=\"dataframe\">\n",
       "  <thead>\n",
       "    <tr style=\"text-align: right;\">\n",
       "      <th></th>\n",
       "      <th>DateCrawled</th>\n",
       "      <th>Price</th>\n",
       "      <th>VehicleType</th>\n",
       "      <th>RegistrationYear</th>\n",
       "      <th>Gearbox</th>\n",
       "      <th>Power</th>\n",
       "      <th>Model</th>\n",
       "      <th>Kilometer</th>\n",
       "      <th>RegistrationMonth</th>\n",
       "      <th>FuelType</th>\n",
       "      <th>Brand</th>\n",
       "      <th>Repaired</th>\n",
       "      <th>DateCreated</th>\n",
       "      <th>NumberOfPictures</th>\n",
       "      <th>PostalCode</th>\n",
       "      <th>LastSeen</th>\n",
       "    </tr>\n",
       "  </thead>\n",
       "  <tbody>\n",
       "    <tr>\n",
       "      <th>0</th>\n",
       "      <td>2016-03-24 11:52:17</td>\n",
       "      <td>480</td>\n",
       "      <td>NaN</td>\n",
       "      <td>1993</td>\n",
       "      <td>manual</td>\n",
       "      <td>0</td>\n",
       "      <td>golf</td>\n",
       "      <td>150000</td>\n",
       "      <td>0</td>\n",
       "      <td>petrol</td>\n",
       "      <td>volkswagen</td>\n",
       "      <td>NaN</td>\n",
       "      <td>2016-03-24 00:00:00</td>\n",
       "      <td>0</td>\n",
       "      <td>70435</td>\n",
       "      <td>2016-04-07 03:16:57</td>\n",
       "    </tr>\n",
       "    <tr>\n",
       "      <th>1</th>\n",
       "      <td>2016-03-24 10:58:45</td>\n",
       "      <td>18300</td>\n",
       "      <td>coupe</td>\n",
       "      <td>2011</td>\n",
       "      <td>manual</td>\n",
       "      <td>190</td>\n",
       "      <td>NaN</td>\n",
       "      <td>125000</td>\n",
       "      <td>5</td>\n",
       "      <td>gasoline</td>\n",
       "      <td>audi</td>\n",
       "      <td>yes</td>\n",
       "      <td>2016-03-24 00:00:00</td>\n",
       "      <td>0</td>\n",
       "      <td>66954</td>\n",
       "      <td>2016-04-07 01:46:50</td>\n",
       "    </tr>\n",
       "    <tr>\n",
       "      <th>2</th>\n",
       "      <td>2016-03-14 12:52:21</td>\n",
       "      <td>9800</td>\n",
       "      <td>suv</td>\n",
       "      <td>2004</td>\n",
       "      <td>auto</td>\n",
       "      <td>163</td>\n",
       "      <td>grand</td>\n",
       "      <td>125000</td>\n",
       "      <td>8</td>\n",
       "      <td>gasoline</td>\n",
       "      <td>jeep</td>\n",
       "      <td>NaN</td>\n",
       "      <td>2016-03-14 00:00:00</td>\n",
       "      <td>0</td>\n",
       "      <td>90480</td>\n",
       "      <td>2016-04-05 12:47:46</td>\n",
       "    </tr>\n",
       "    <tr>\n",
       "      <th>3</th>\n",
       "      <td>2016-03-17 16:54:04</td>\n",
       "      <td>1500</td>\n",
       "      <td>small</td>\n",
       "      <td>2001</td>\n",
       "      <td>manual</td>\n",
       "      <td>75</td>\n",
       "      <td>golf</td>\n",
       "      <td>150000</td>\n",
       "      <td>6</td>\n",
       "      <td>petrol</td>\n",
       "      <td>volkswagen</td>\n",
       "      <td>no</td>\n",
       "      <td>2016-03-17 00:00:00</td>\n",
       "      <td>0</td>\n",
       "      <td>91074</td>\n",
       "      <td>2016-03-17 17:40:17</td>\n",
       "    </tr>\n",
       "    <tr>\n",
       "      <th>4</th>\n",
       "      <td>2016-03-31 17:25:20</td>\n",
       "      <td>3600</td>\n",
       "      <td>small</td>\n",
       "      <td>2008</td>\n",
       "      <td>manual</td>\n",
       "      <td>69</td>\n",
       "      <td>fabia</td>\n",
       "      <td>90000</td>\n",
       "      <td>7</td>\n",
       "      <td>gasoline</td>\n",
       "      <td>skoda</td>\n",
       "      <td>no</td>\n",
       "      <td>2016-03-31 00:00:00</td>\n",
       "      <td>0</td>\n",
       "      <td>60437</td>\n",
       "      <td>2016-04-06 10:17:21</td>\n",
       "    </tr>\n",
       "  </tbody>\n",
       "</table>\n",
       "</div>"
      ],
      "text/plain": [
       "           DateCrawled  Price VehicleType  RegistrationYear Gearbox  Power  \\\n",
       "0  2016-03-24 11:52:17    480         NaN              1993  manual      0   \n",
       "1  2016-03-24 10:58:45  18300       coupe              2011  manual    190   \n",
       "2  2016-03-14 12:52:21   9800         suv              2004    auto    163   \n",
       "3  2016-03-17 16:54:04   1500       small              2001  manual     75   \n",
       "4  2016-03-31 17:25:20   3600       small              2008  manual     69   \n",
       "\n",
       "   Model  Kilometer  RegistrationMonth  FuelType       Brand Repaired  \\\n",
       "0   golf     150000                  0    petrol  volkswagen      NaN   \n",
       "1    NaN     125000                  5  gasoline        audi      yes   \n",
       "2  grand     125000                  8  gasoline        jeep      NaN   \n",
       "3   golf     150000                  6    petrol  volkswagen       no   \n",
       "4  fabia      90000                  7  gasoline       skoda       no   \n",
       "\n",
       "           DateCreated  NumberOfPictures  PostalCode             LastSeen  \n",
       "0  2016-03-24 00:00:00                 0       70435  2016-04-07 03:16:57  \n",
       "1  2016-03-24 00:00:00                 0       66954  2016-04-07 01:46:50  \n",
       "2  2016-03-14 00:00:00                 0       90480  2016-04-05 12:47:46  \n",
       "3  2016-03-17 00:00:00                 0       91074  2016-03-17 17:40:17  \n",
       "4  2016-03-31 00:00:00                 0       60437  2016-04-06 10:17:21  "
      ]
     },
     "execution_count": 4,
     "metadata": {},
     "output_type": "execute_result"
    }
   ],
   "source": [
    "df.head(5)"
   ]
  },
  {
   "cell_type": "markdown",
   "metadata": {},
   "source": [
    "**Комментарий**: Данные соответствуют условию."
   ]
  },
  {
   "cell_type": "code",
   "execution_count": 5,
   "metadata": {},
   "outputs": [
    {
     "name": "stdout",
     "output_type": "stream",
     "text": [
      "<class 'pandas.core.frame.DataFrame'>\n",
      "RangeIndex: 354369 entries, 0 to 354368\n",
      "Data columns (total 16 columns):\n",
      " #   Column             Non-Null Count   Dtype \n",
      "---  ------             --------------   ----- \n",
      " 0   DateCrawled        354369 non-null  object\n",
      " 1   Price              354369 non-null  int64 \n",
      " 2   VehicleType        316879 non-null  object\n",
      " 3   RegistrationYear   354369 non-null  int64 \n",
      " 4   Gearbox            334536 non-null  object\n",
      " 5   Power              354369 non-null  int64 \n",
      " 6   Model              334664 non-null  object\n",
      " 7   Kilometer          354369 non-null  int64 \n",
      " 8   RegistrationMonth  354369 non-null  int64 \n",
      " 9   FuelType           321474 non-null  object\n",
      " 10  Brand              354369 non-null  object\n",
      " 11  Repaired           283215 non-null  object\n",
      " 12  DateCreated        354369 non-null  object\n",
      " 13  NumberOfPictures   354369 non-null  int64 \n",
      " 14  PostalCode         354369 non-null  int64 \n",
      " 15  LastSeen           354369 non-null  object\n",
      "dtypes: int64(7), object(9)\n",
      "memory usage: 43.3+ MB\n"
     ]
    }
   ],
   "source": [
    "df.info()"
   ]
  },
  {
   "cell_type": "markdown",
   "metadata": {},
   "source": [
    "**Комментарий**: Данных очень много - `354369` строк, также имеются пропуски в некоторых столбцах, типы данных соответствуют данным."
   ]
  },
  {
   "cell_type": "markdown",
   "metadata": {},
   "source": [
    "### Предобработка данных"
   ]
  },
  {
   "cell_type": "code",
   "execution_count": 6,
   "metadata": {},
   "outputs": [
    {
     "data": {
      "text/plain": [
       "DateCrawled              0\n",
       "Price                    0\n",
       "VehicleType          37490\n",
       "RegistrationYear         0\n",
       "Gearbox              19833\n",
       "Power                    0\n",
       "Model                19705\n",
       "Kilometer                0\n",
       "RegistrationMonth        0\n",
       "FuelType             32895\n",
       "Brand                    0\n",
       "Repaired             71154\n",
       "DateCreated              0\n",
       "NumberOfPictures         0\n",
       "PostalCode               0\n",
       "LastSeen                 0\n",
       "dtype: int64"
      ]
     },
     "execution_count": 6,
     "metadata": {},
     "output_type": "execute_result"
    }
   ],
   "source": [
    "df.isna().sum()"
   ]
  },
  {
   "cell_type": "markdown",
   "metadata": {},
   "source": [
    "**Комментарий**:\n",
    "```\n",
    "-VehicleType - 37490 пропусков(10.5%)\n",
    "-Gearbox - 19833 пропуска(5.6%)\n",
    "-Model - 19705 пропусков(5.6%)\n",
    "-FuelType - 32895 пропуска(9.3%)\n",
    "-Repaired - 71154 пропуска(20.1%)\n",
    "\n",
    "```\n",
    "Пропусков слишком много чтобы их просто удалять, поэтому пока что заполним их самыми популярными значениями"
   ]
  },
  {
   "cell_type": "code",
   "execution_count": 7,
   "metadata": {},
   "outputs": [],
   "source": [
    "df['VehicleType'] = df['VehicleType'].fillna(df['VehicleType'].mode()[0])\n",
    "df['Gearbox'] = df['Gearbox'].fillna(df['Gearbox'].mode()[0])\n",
    "df['Model'] = df['Model'].fillna(df['Model'].mode()[0])\n",
    "df['FuelType'] = df['FuelType'].fillna(df['FuelType'].mode()[0])\n",
    "df['Repaired'] = df['Repaired'].fillna(df['Repaired'].mode()[0])"
   ]
  },
  {
   "cell_type": "markdown",
   "metadata": {},
   "source": [
    "**Комментарий**: Пропуски заполнены самым популярным значением в столбце."
   ]
  },
  {
   "cell_type": "code",
   "execution_count": 8,
   "metadata": {},
   "outputs": [],
   "source": [
    "df = df.drop(['DateCrawled'], axis=1)\n",
    "df = df.drop(['PostalCode'], axis=1)"
   ]
  },
  {
   "cell_type": "markdown",
   "metadata": {},
   "source": [
    "**Комментарийй**: Удалены неинформативные признаки для задачи"
   ]
  },
  {
   "cell_type": "markdown",
   "metadata": {},
   "source": [
    "### Исследовательский анализ"
   ]
  },
  {
   "cell_type": "code",
   "execution_count": 9,
   "metadata": {},
   "outputs": [
    {
     "data": {
      "text/plain": [
       "count    354369.000000\n",
       "mean       4416.656776\n",
       "std        4514.158514\n",
       "min           0.000000\n",
       "25%        1050.000000\n",
       "50%        2700.000000\n",
       "75%        6400.000000\n",
       "max       20000.000000\n",
       "Name: Price, dtype: float64"
      ]
     },
     "execution_count": 9,
     "metadata": {},
     "output_type": "execute_result"
    }
   ],
   "source": [
    "df['Price'].describe()"
   ]
  },
  {
   "cell_type": "code",
   "execution_count": 10,
   "metadata": {},
   "outputs": [
    {
     "data": {
      "image/png": "[encoded data removed]",
      "text/plain": [
       "<Figure size 720x720 with 1 Axes>"
      ]
     },
     "metadata": {
      "needs_background": "light"
     },
     "output_type": "display_data"
    }
   ],
   "source": [
    "plt.figure(figsize=(10,10))\n",
    "plt.hist(df['Price'], bins=50, color='green', edgecolor='black')\n",
    "plt.title('Распределение цены')\n",
    "plt.xlabel('Цена')\n",
    "plt.ylabel('Частота')\n",
    "plt.grid(True)\n",
    "plt.show()"
   ]
  },
  {
   "cell_type": "markdown",
   "metadata": {},
   "source": [
    "**Комментарий**: Большинство автомобилей стоят до `2500`, однако есть и машины цена которых находится в диапозоне `15000-20000`"
   ]
  },
  {
   "cell_type": "code",
   "execution_count": 11,
   "metadata": {},
   "outputs": [
    {
     "data": {
      "image/png": "[encoded data removed]",
      "text/plain": [
       "<Figure size 720x720 with 1 Axes>"
      ]
     },
     "metadata": {
      "needs_background": "light"
     },
     "output_type": "display_data"
    }
   ],
   "source": [
    "df['VehicleType'].value_counts().plot(kind='bar', color='red', edgecolor='black', figsize=(10,10))\n",
    "plt.title('Распределение типа кузова')\n",
    "plt.xlabel('Тип кузова')\n",
    "plt.xticks(rotation=45)\n",
    "plt.ylabel('Частота')\n",
    "plt.grid(True)\n",
    "plt.show()"
   ]
  },
  {
   "cell_type": "markdown",
   "metadata": {},
   "source": [
    "**Комментарий**: Самым популярным кузовом является `sedan`, `small` идет на втором месте. Самыми не популярными являются `coupe`, `suv` и `other`"
   ]
  },
  {
   "cell_type": "code",
   "execution_count": 12,
   "metadata": {},
   "outputs": [
    {
     "data": {
      "text/plain": [
       "count    354369.000000\n",
       "mean       2004.234448\n",
       "std          90.227958\n",
       "min        1000.000000\n",
       "25%        1999.000000\n",
       "50%        2003.000000\n",
       "75%        2008.000000\n",
       "max        9999.000000\n",
       "Name: RegistrationYear, dtype: float64"
      ]
     },
     "execution_count": 12,
     "metadata": {},
     "output_type": "execute_result"
    }
   ],
   "source": [
    "df['RegistrationYear'].describe()"
   ]
  },
  {
   "cell_type": "code",
   "execution_count": 13,
   "metadata": {},
   "outputs": [
    {
     "data": {
      "text/plain": [
       "array([1993, 2011, 2004, 2001, 2008, 1995, 1980, 2014, 1998, 2005, 1910,\n",
       "       2016, 2007, 2009, 2002, 2018, 1997, 1990, 2017, 1981, 2003, 1994,\n",
       "       1991, 1984, 2006, 1999, 2012, 2010, 2000, 1992, 2013, 1996, 1985,\n",
       "       1989, 2015, 1982, 1976, 1983, 1973, 1111, 1969, 1971, 1987, 1986,\n",
       "       1988, 1970, 1965, 1945, 1925, 1974, 1979, 1955, 1978, 1972, 1968,\n",
       "       1977, 1961, 1960, 1966, 1975, 1963, 1964, 5000, 1954, 1958, 1967,\n",
       "       1959, 9999, 1956, 3200, 1000, 1941, 8888, 1500, 2200, 4100, 1962,\n",
       "       1929, 1957, 1940, 3000, 2066, 1949, 2019, 1937, 1951, 1800, 1953,\n",
       "       1234, 8000, 5300, 9000, 2900, 6000, 5900, 5911, 1933, 1400, 1950,\n",
       "       4000, 1948, 1952, 1200, 8500, 1932, 1255, 3700, 3800, 4800, 1942,\n",
       "       7000, 1935, 1936, 6500, 1923, 2290, 2500, 1930, 1001, 9450, 1944,\n",
       "       1943, 1934, 1938, 1688, 2800, 1253, 1928, 1919, 5555, 5600, 1600,\n",
       "       2222, 1039, 9996, 1300, 8455, 1931, 1915, 4500, 1920, 1602, 7800,\n",
       "       9229, 1947, 1927, 7100, 8200, 1946, 7500, 3500])"
      ]
     },
     "execution_count": 13,
     "metadata": {},
     "output_type": "execute_result"
    }
   ],
   "source": [
    "df['RegistrationYear'].unique()"
   ]
  },
  {
   "cell_type": "markdown",
   "metadata": {},
   "source": [
    "**Комментарий**: Явно присутствуют выбросы, в столбце есть годы регистрации, которые невозможны"
   ]
  },
  {
   "cell_type": "code",
   "execution_count": 14,
   "metadata": {},
   "outputs": [],
   "source": [
    "df = df[(df['RegistrationYear'] <= 2016) & (df['RegistrationYear'] >= 1950)]"
   ]
  },
  {
   "cell_type": "code",
   "execution_count": 15,
   "metadata": {},
   "outputs": [
    {
     "data": {
      "image/png": "[encoded data removed]",
      "text/plain": [
       "<Figure size 720x720 with 1 Axes>"
      ]
     },
     "metadata": {
      "needs_background": "light"
     },
     "output_type": "display_data"
    }
   ],
   "source": [
    "plt.figure(figsize=(10,10))\n",
    "plt.hist(df['RegistrationYear'], bins=50, color='green', edgecolor='black')\n",
    "plt.title('Распределение по году регистрации авто')\n",
    "plt.xlabel('Год регистрации')\n",
    "plt.ylabel('Частота')\n",
    "plt.xticks(rotation=45)\n",
    "plt.grid(True)\n",
    "plt.show()\n"
   ]
  },
  {
   "cell_type": "markdown",
   "metadata": {},
   "source": [
    "**Комментарий**: Большинство авто были зарегистрированы примерно в `2000` года, также часто встречаются авто с регистрацией в `1950` года и в `1990`"
   ]
  },
  {
   "cell_type": "code",
   "execution_count": 16,
   "metadata": {},
   "outputs": [
    {
     "data": {
      "image/png": "[encoded data removed]",
      "text/plain": [
       "<Figure size 720x720 with 1 Axes>"
      ]
     },
     "metadata": {
      "needs_background": "light"
     },
     "output_type": "display_data"
    }
   ],
   "source": [
    "df['Gearbox'].value_counts().plot(kind='bar', color='red', edgecolor='black', figsize=(10,10))\n",
    "plt.title('Распределение типа коробки передач')\n",
    "plt.xlabel('Тип коробки передач')\n",
    "plt.xticks(rotation=45)\n",
    "plt.ylabel('Частота')\n",
    "plt.grid(True)\n",
    "plt.show()"
   ]
  },
  {
   "cell_type": "markdown",
   "metadata": {},
   "source": [
    "**Комментарий**: Большинство авто идут с `manual` типом коробки передач, разница с `auto` почти в `7` раз"
   ]
  },
  {
   "cell_type": "code",
   "execution_count": 17,
   "metadata": {},
   "outputs": [
    {
     "data": {
      "text/plain": [
       "count    339593.000000\n",
       "mean        111.045696\n",
       "std         186.899948\n",
       "min           0.000000\n",
       "25%          69.000000\n",
       "50%         105.000000\n",
       "75%         143.000000\n",
       "max       20000.000000\n",
       "Name: Power, dtype: float64"
      ]
     },
     "execution_count": 17,
     "metadata": {},
     "output_type": "execute_result"
    }
   ],
   "source": [
    "df['Power'].describe()"
   ]
  },
  {
   "cell_type": "code",
   "execution_count": 18,
   "metadata": {},
   "outputs": [
    {
     "data": {
      "text/plain": [
       "array([    0,   190,   163,    75,    69,   102,   109,    50,   125,\n",
       "         101,   105,   140,   115,   131,    60,   136,   160,   231,\n",
       "         118,   193,    99,   113,   218,   122,   129,    70,   306,\n",
       "          95,    61,   177,   170,    55,   143,   286,   232,   150,\n",
       "         156,    80,    82,    90,   155,    54,   185,    87,   180,\n",
       "          86,    84,   224,   235,   200,   178,   265,    77,   110,\n",
       "         144,   120,   116,   184,   126,   204,    88,   194,    64,\n",
       "         305,   197,   179,   250,    45,   313,    41,   165,    98,\n",
       "         130,   114,   211,    56,   201,   213,    58,   107,    83,\n",
       "         174,   100,   220,    73,   192,    68,    66,   299,    74,\n",
       "          52,   147,   310,    71,    97,    65,   239,   203,     5,\n",
       "         300,   103,    85,   258,   320,    63,    81,   148,    44,\n",
       "         145,   230,   280,   260,   104,   188,   333,   186,   117,\n",
       "         141,   132,   234,   158,    39,    92,    51,   135,    59,\n",
       "          53,   209,    43,   146,    67,   106,   166,   276,   344,\n",
       "          72,   249,   237,   245,   111,   326,   279,    23,   138,\n",
       "         175,    96,   226,    26,    37,   301,   334,   128,   133,\n",
       "         124,    33,   219,   241,   167,    94,   182,   196,   238,\n",
       "        1398,   228,   112,    48,   272,   139,  1799,   240,    79,\n",
       "         256,   360,   243,   375,   252,   396,   340,   121,   345,\n",
       "         187,   289,   222,   198,   284,   450,   233,   387,   152,\n",
       "         347,   172,    57,   137,   212,   476,   314,    30,     7,\n",
       "          47,   173,   290,   207,   205,   171,    78,    91,    89,\n",
       "         349,    40,   108,   325,    76,   350,   953,    93,   142,\n",
       "         500,   343,   199,   119,   164,    16,   264,   367,   208,\n",
       "         210,    46,   435,  1001,   225,   127,   176,   161,   603,\n",
       "         307,   354,    35,   206,   771,   355,   273,   223,   255,\n",
       "         151,   123,   154,   149,  7515,  1400,   268,   620,   400,\n",
       "         275,    34,     2,   242,  1779,   285,   162,   328,  1753,\n",
       "         329,   134,   420,   247,   168, 10317,   215,    18,   330,\n",
       "         283,    62,    10,   214,   183,   254,    15,   321,   315,\n",
       "         952,   169,   600,   181,   426,   379,   999,    22,   157,\n",
       "          42,   195,   553,     4,   309,   507,   381,   271,   440,\n",
       "         189,   401,  1111,  2729,    21,   236,  1240,  1704,   521,\n",
       "           1,  1900,   270,    24,   159,   292,   515,  1200,   303,\n",
       "          29,    38,  1993,    14,   216,   610,   504,    49,   267,\n",
       "         331,   363,   261,   385,  1011,   253,   696, 10520,   376,\n",
       "         227,   311,    27,   217,    20,   322,  1999,    11,  1056,\n",
       "          25,   394,    12,   298,   296,  1659,   294,   551,  6920,\n",
       "         246,    17,  1625,   368,   390,   221,  1367,   259,   606,\n",
       "        1597,   266,   374,   392,     9,   405,    13,   262,   601,\n",
       "         430,   295,     8,   411,   900,   541,  7512,   382, 10218,\n",
       "        7544,  1102,   287,    19,   751,   297,  1090,   457,   282,\n",
       "         602,   388,     6,  5411,   335,  1360,   202,  3750,   805,\n",
       "        1062,  2017,   750,  1024, 11530,   364,  1796,   269,   460,\n",
       "        1002,   288,  1780, 12012, 17932,   316,  2005,  1800,  1399,\n",
       "         191,   278,   380,   257,   449,  1256,   153,  1653,   520,\n",
       "         560,   281, 12510,     3,  1500,   386,    32,  1202,  2016,\n",
       "        1436,  1405,   671,   274,  1288,  1055, 10912, 15016,  6226,\n",
       "        1115,   277,  1105,   341,  1223,  2340,  8404,  1968,   338,\n",
       "         445,  1920,   370,   517,  4400, 10710, 10522,   431,  1164,\n",
       "       11509,   371,  1501,   428, 11635,    36,   304,   348,  1703,\n",
       "        1910,  1995,   579, 10000,   580,   408,    31,   358,  1403,\n",
       "         489,  5575, 19211,   585,   960,   365,   353,   490,   352,\n",
       "        1801,  1000,   346,   550,  3199,   800,  7508,  1312,  1937,\n",
       "         950,  4700,  1600,  3454, 19208,   251,   850,   337,   700,\n",
       "        8011,  2331,  2789,   487,   519,  2461,  6006,  3500,  5815,\n",
       "        6018,  1781,  1503,   612,  1596,   229,  1506,  5809, 15020,\n",
       "        1300,  5867,  2172,  1598, 17410,  1363,   584,  1054,   851,\n",
       "        1339,   318,   510,   525,  1700,    28,  1151,   685,  6011,\n",
       "         317,   703,  1771, 15001,   514,   362,   332,  5000,   324,\n",
       "        6045,   530,   425,   308,  6010,   475,   903,   640,  2000,\n",
       "         248,   651,  2799, 17011,   505,  1103,  1521,   351, 16051,\n",
       "         398,   599,  1998, 10311,   409,  1230, 17019, 12684,  8259,\n",
       "        1895,  1317,   871,   909,  2201,  1595,   776, 17700, 11011,\n",
       "        1199,   459,   357,  1162,  1120,   327, 15033,  1896,   339,\n",
       "         361,   574,  6512,   454,   650, 13616,   604, 16312,  1082,\n",
       "         336, 20000,   416,   678,  1401,  1021,  1870, 13636,  1250,\n",
       "        9710,  6012,   323,  1158,  2009,   902,  6062,  1275,   572,\n",
       "         244,   399,  1016,   743,  1221,  2402,  1362,   544,   645,\n",
       "         907,   702,  1003,  1432,  9013,   442,  1017, 15017, 10910,\n",
       "        1992,   540,  2018, 11025,  1433,  1701,  2792,  1502,  1239,\n",
       "        1390, 14009,  1160, 11111,  1783,  9007,   923,  1149,   754,\n",
       "        1988,  2004,  5420,  1793,  1324,   356, 12512,  7511,  1299,\n",
       "         293, 19312,  1079,  1689,   998,  1100,  1933,   508, 16311,\n",
       "         682,  1922,  7529,   732,  2389,  1005,  2200,  1707,  1416,\n",
       "        8500,  1012,   485, 10110,   421,  4507,  1631,  7518,   377,\n",
       "        1004,  9012,  2007,  2598,  1548,  1241])"
      ]
     },
     "execution_count": 18,
     "metadata": {},
     "output_type": "execute_result"
    }
   ],
   "source": [
    "df['Power'].unique()"
   ]
  },
  {
   "cell_type": "markdown",
   "metadata": {},
   "source": [
    "**Комментарий**: Снова есть явные выбросы, с невозможными значениями мощности"
   ]
  },
  {
   "cell_type": "code",
   "execution_count": 19,
   "metadata": {},
   "outputs": [],
   "source": [
    "df = df[(df['Power'] <= 450) & (df['Power'] >= 50)]"
   ]
  },
  {
   "cell_type": "code",
   "execution_count": 20,
   "metadata": {},
   "outputs": [
    {
     "data": {
      "image/png": "[encoded data removed]",
      "text/plain": [
       "<Figure size 720x720 with 1 Axes>"
      ]
     },
     "metadata": {
      "needs_background": "light"
     },
     "output_type": "display_data"
    }
   ],
   "source": [
    "plt.figure(figsize=(10,10))\n",
    "plt.hist(df['Power'], bins=50, color='green', edgecolor='black')\n",
    "plt.title('Распределение по мощности авто')\n",
    "plt.xlabel('Мощность')\n",
    "plt.ylabel('Частота')\n",
    "plt.xticks(rotation=45)\n",
    "plt.grid(True)\n",
    "plt.show()\n"
   ]
  },
  {
   "cell_type": "markdown",
   "metadata": {},
   "source": [
    "**Комментарий**: Большинство машин имеют мощность то `50` до `160`, есть и мощные авто вплоть до `400`"
   ]
  },
  {
   "cell_type": "code",
   "execution_count": 21,
   "metadata": {},
   "outputs": [
    {
     "data": {
      "image/png": "[encoded data removed]",
      "text/plain": [
       "<Figure size 864x432 with 1 Axes>"
      ]
     },
     "metadata": {
      "needs_background": "light"
     },
     "output_type": "display_data"
    }
   ],
   "source": [
    "plt.figure(figsize=(12,6))\n",
    "df['Model'].value_counts().head(20).plot(kind='bar', color='brown', edgecolor='black')\n",
    "plt.title('Топ-20 популярных моделей')\n",
    "plt.xlabel('Модель')\n",
    "plt.ylabel('Частота')\n",
    "plt.xticks(rotation=45, ha='right')\n",
    "plt.grid(True)\n",
    "plt.show()\n"
   ]
  },
  {
   "cell_type": "markdown",
   "metadata": {},
   "source": [
    "**Комментарий**: График распределения `20` самых популярных моделей"
   ]
  },
  {
   "cell_type": "code",
   "execution_count": 22,
   "metadata": {},
   "outputs": [
    {
     "data": {
      "text/plain": [
       "count    297083.000000\n",
       "mean     128589.064336\n",
       "std       36609.740372\n",
       "min        5000.000000\n",
       "25%      125000.000000\n",
       "50%      150000.000000\n",
       "75%      150000.000000\n",
       "max      150000.000000\n",
       "Name: Kilometer, dtype: float64"
      ]
     },
     "execution_count": 22,
     "metadata": {},
     "output_type": "execute_result"
    }
   ],
   "source": [
    "df['Kilometer'].describe()"
   ]
  },
  {
   "cell_type": "code",
   "execution_count": 23,
   "metadata": {},
   "outputs": [
    {
     "data": {
      "text/plain": [
       "150000    198334\n",
       "125000     31556\n",
       "100000     12703\n",
       "90000      10210\n",
       "80000       8947\n",
       "70000       7715\n",
       "60000       6718\n",
       "50000       5569\n",
       "40000       4439\n",
       "30000       3840\n",
       "20000       3203\n",
       "5000        2965\n",
       "10000        884\n",
       "Name: Kilometer, dtype: int64"
      ]
     },
     "execution_count": 23,
     "metadata": {},
     "output_type": "execute_result"
    }
   ],
   "source": [
    "df['Kilometer'].value_counts()"
   ]
  },
  {
   "cell_type": "code",
   "execution_count": 24,
   "metadata": {},
   "outputs": [
    {
     "data": {
      "image/png": "[encoded data removed]",
      "text/plain": [
       "<Figure size 720x720 with 1 Axes>"
      ]
     },
     "metadata": {
      "needs_background": "light"
     },
     "output_type": "display_data"
    }
   ],
   "source": [
    "plt.figure(figsize=(10,10))\n",
    "plt.hist(df['Kilometer'], bins=50, color='green', edgecolor='black')\n",
    "plt.title('Распределение по пробегу')\n",
    "plt.xlabel('Пробег')\n",
    "plt.ylabel('Частота')\n",
    "plt.xticks(rotation=45)\n",
    "plt.grid(True)\n",
    "plt.show()"
   ]
  },
  {
   "cell_type": "markdown",
   "metadata": {},
   "source": [
    "**Комментарий**: Почти `6000` авто с пробегом `150.000` скорее всего это просто максимально значение, которое можно указать"
   ]
  },
  {
   "cell_type": "code",
   "execution_count": 25,
   "metadata": {},
   "outputs": [
    {
     "data": {
      "text/plain": [
       "3     30371\n",
       "6     27604\n",
       "4     25715\n",
       "5     25635\n",
       "7     23818\n",
       "10    22947\n",
       "12    21236\n",
       "11    21055\n",
       "9     20956\n",
       "1     20131\n",
       "8     19789\n",
       "0     18985\n",
       "2     18841\n",
       "Name: RegistrationMonth, dtype: int64"
      ]
     },
     "execution_count": 25,
     "metadata": {},
     "output_type": "execute_result"
    }
   ],
   "source": [
    "df['RegistrationMonth'].value_counts()"
   ]
  },
  {
   "cell_type": "markdown",
   "metadata": {},
   "source": [
    "**Комментарий**: Для почти `500` авто указан месяц регистрации `0`, это `6.7%` от всех данных."
   ]
  },
  {
   "cell_type": "code",
   "execution_count": 26,
   "metadata": {},
   "outputs": [],
   "source": [
    "df = df[df['RegistrationMonth'] != 0]\n"
   ]
  },
  {
   "cell_type": "code",
   "execution_count": 27,
   "metadata": {},
   "outputs": [
    {
     "data": {
      "image/png": "[encoded data removed]",
      "text/plain": [
       "<Figure size 720x720 with 1 Axes>"
      ]
     },
     "metadata": {
      "needs_background": "light"
     },
     "output_type": "display_data"
    }
   ],
   "source": [
    "plt.figure(figsize=(10,10))\n",
    "plt.hist(df['RegistrationMonth'], bins=50, color='green', edgecolor='black')\n",
    "plt.title('Распределение по месяцу регистрации авто')\n",
    "plt.xlabel('Месяц регистрации')\n",
    "plt.ylabel('Частота')\n",
    "plt.xticks(rotation=45)\n",
    "plt.grid(True)\n",
    "plt.show()\n"
   ]
  },
  {
   "cell_type": "markdown",
   "metadata": {},
   "source": [
    "**Комментарий**: Месяцы регистрации авто распределены равномерно "
   ]
  },
  {
   "cell_type": "code",
   "execution_count": 28,
   "metadata": {},
   "outputs": [
    {
     "data": {
      "image/png": "[encoded data removed]",
      "text/plain": [
       "<Figure size 864x432 with 1 Axes>"
      ]
     },
     "metadata": {
      "needs_background": "light"
     },
     "output_type": "display_data"
    }
   ],
   "source": [
    "plt.figure(figsize=(12,6))\n",
    "df['FuelType'].value_counts().head(20).plot(kind='bar', color='brown', edgecolor='black')\n",
    "plt.title('Распредление по типу топлива')\n",
    "plt.xlabel('Тип топлива')\n",
    "plt.ylabel('Частота')\n",
    "plt.xticks(rotation=45, ha='right')\n",
    "plt.grid(True)\n",
    "plt.show()\n"
   ]
  },
  {
   "cell_type": "markdown",
   "metadata": {},
   "source": [
    "**Комментарий**: Самым популярным типом топлива является `petrol`, а самые не популярные `cng`, `hybrid` и `other`"
   ]
  },
  {
   "cell_type": "code",
   "execution_count": 29,
   "metadata": {},
   "outputs": [
    {
     "data": {
      "image/png": "[encoded data removed]",
      "text/plain": [
       "<Figure size 864x432 with 1 Axes>"
      ]
     },
     "metadata": {
      "needs_background": "light"
     },
     "output_type": "display_data"
    }
   ],
   "source": [
    "plt.figure(figsize=(12,6))\n",
    "df['Brand'].value_counts().head(20).plot(kind='bar', color='brown', edgecolor='black')\n",
    "plt.title('Распредление по бренду')\n",
    "plt.xlabel('Бренд')\n",
    "plt.ylabel('Частота')\n",
    "plt.xticks(rotation=45, ha='right')\n",
    "plt.grid(True)\n",
    "plt.show()\n"
   ]
  },
  {
   "cell_type": "markdown",
   "metadata": {},
   "source": [
    "**Комментарий**: Самой популярной маркой является `Volkswagen`, затем идут `Opel` и `bmw`, а самые не популярные марки - `volvo`, `mitsubishi` и `alfa_romeo`"
   ]
  },
  {
   "cell_type": "code",
   "execution_count": 30,
   "metadata": {},
   "outputs": [
    {
     "data": {
      "image/png": "[encoded data removed]",
      "text/plain": [
       "<Figure size 864x432 with 1 Axes>"
      ]
     },
     "metadata": {
      "needs_background": "light"
     },
     "output_type": "display_data"
    }
   ],
   "source": [
    "plt.figure(figsize=(12,6))\n",
    "df['Repaired'].value_counts().head(20).plot(kind='bar', color='brown', edgecolor='black')\n",
    "plt.title('Распредление по ремонту')\n",
    "plt.xlabel('Была ли в ремонте')\n",
    "plt.ylabel('Частота')\n",
    "plt.xticks(rotation=45, ha='right')\n",
    "plt.grid(True)\n",
    "plt.show()\n"
   ]
  },
  {
   "cell_type": "markdown",
   "metadata": {},
   "source": [
    "**Комментарий**: Подавляющее количество авто не было в ремонте, ращница между `no` и `yes` почти в `10` раз в пользу `no`"
   ]
  },
  {
   "cell_type": "code",
   "execution_count": 31,
   "metadata": {},
   "outputs": [
    {
     "data": {
      "image/png": "[encoded data removed]",
      "text/plain": [
       "<Figure size 864x432 with 1 Axes>"
      ]
     },
     "metadata": {
      "needs_background": "light"
     },
     "output_type": "display_data"
    }
   ],
   "source": [
    "plt.figure(figsize=(12,6))\n",
    "df['DateCreated'].value_counts().head(20).plot(kind='bar', color='brown', edgecolor='black')\n",
    "plt.title('Распредление по дате создания')\n",
    "plt.xlabel('Дата')\n",
    "plt.ylabel('Частота')\n",
    "plt.xticks(rotation=45, ha='right')\n",
    "plt.grid(True)\n",
    "plt.show()\n"
   ]
  },
  {
   "cell_type": "markdown",
   "metadata": {},
   "source": [
    "**Комментарий**: Наши объявления были созданы примерно в одно время, эттой информацией можно пренебречь"
   ]
  },
  {
   "cell_type": "code",
   "execution_count": 32,
   "metadata": {},
   "outputs": [],
   "source": [
    "df = df.drop(['DateCreated'], axis=1)"
   ]
  },
  {
   "cell_type": "code",
   "execution_count": 33,
   "metadata": {},
   "outputs": [
    {
     "data": {
      "image/png": "[encoded data removed]",
      "text/plain": [
       "<Figure size 864x432 with 1 Axes>"
      ]
     },
     "metadata": {
      "needs_background": "light"
     },
     "output_type": "display_data"
    }
   ],
   "source": [
    "plt.figure(figsize=(12,6))\n",
    "df['NumberOfPictures'].value_counts().head(20).plot(kind='bar', color='brown', edgecolor='black')\n",
    "plt.title('Распредление по кол-ву фотографий')\n",
    "plt.xlabel('Кол-во фотографий')\n",
    "plt.ylabel('Частота')\n",
    "plt.xticks(rotation=45)\n",
    "plt.grid(True)\n",
    "plt.show()\n"
   ]
  },
  {
   "cell_type": "markdown",
   "metadata": {},
   "source": [
    "**Комментарий**: Везде `0` фотографий, можно удалить этот признак"
   ]
  },
  {
   "cell_type": "code",
   "execution_count": 34,
   "metadata": {},
   "outputs": [],
   "source": [
    "df = df.drop(['NumberOfPictures'], axis=1)"
   ]
  },
  {
   "cell_type": "code",
   "execution_count": 35,
   "metadata": {
    "scrolled": true
   },
   "outputs": [
    {
     "data": {
      "image/png": "[encoded data removed]",
      "text/plain": [
       "<Figure size 864x432 with 1 Axes>"
      ]
     },
     "metadata": {
      "needs_background": "light"
     },
     "output_type": "display_data"
    }
   ],
   "source": [
    "plt.figure(figsize=(12,6))\n",
    "df['LastSeen'].value_counts().head(20).plot(kind='bar', color='brown', edgecolor='black')\n",
    "plt.title('Распредление по дате последней активности')\n",
    "plt.xlabel('Дата')\n",
    "plt.ylabel('Частота')\n",
    "plt.xticks(rotation=45, ha='right')\n",
    "plt.grid(True)\n",
    "plt.show()\n"
   ]
  },
  {
   "cell_type": "markdown",
   "metadata": {},
   "source": [
    "**Комментарий**: Вновь неинформативные данные, удаляем"
   ]
  },
  {
   "cell_type": "code",
   "execution_count": 36,
   "metadata": {},
   "outputs": [],
   "source": [
    "df = df.drop(['LastSeen'], axis=1)"
   ]
  },
  {
   "cell_type": "markdown",
   "metadata": {},
   "source": [
    "### Подготовка к обучению"
   ]
  },
  {
   "cell_type": "code",
   "execution_count": 37,
   "metadata": {},
   "outputs": [],
   "source": [
    "RANDOM_STATE = 44\n",
    "\n",
    "X = df.drop('Price', axis=1)\n",
    "y = df['Price']\n",
    "\n",
    "X_train, X_val, y_train, y_val = train_test_split(\n",
    "    X, y, random_state=RANDOM_STATE, test_size=0.25\n",
    ")\n",
    "\n",
    "num_cols = ['RegistrationYear', 'Power', 'Kilometer', 'RegistrationMonth']\n",
    "cat_cols = ['VehicleType', 'Gearbox', 'Model', 'FuelType', 'Brand', 'Repaired']\n",
    "\n",
    "num_pipe = Pipeline(steps=[\n",
    "    ('imputer', SimpleImputer(strategy='median')),\n",
    "    ('scaler', StandardScaler())\n",
    "])\n",
    "\n",
    "cat_pipe = Pipeline(steps=[\n",
    "    ('imputer', SimpleImputer(strategy='most_frequent')),\n",
    "    ('ohe', OneHotEncoder(drop=None, handle_unknown='ignore'))\n",
    "])\n",
    "\n",
    "preprocessor = ColumnTransformer(transformers=[\n",
    "    ('num', num_pipe, num_cols),\n",
    "    ('cat', cat_pipe, cat_cols)\n",
    "])"
   ]
  },
  {
   "cell_type": "markdown",
   "metadata": {},
   "source": [
    "## Обучение моделей"
   ]
  },
  {
   "cell_type": "code",
   "execution_count": 38,
   "metadata": {
    "scrolled": true
   },
   "outputs": [],
   "source": [
    "pipe = Pipeline([\n",
    "    ('preprocessor', preprocessor),\n",
    "    ('model', DecisionTreeRegressor(random_state=RANDOM_STATE))\n",
    "])\n",
    "\n",
    "param_grid = [\n",
    "    {\n",
    "        'model': [DecisionTreeRegressor(random_state=RANDOM_STATE)],\n",
    "        'model__max_depth': [5, 10],\n",
    "        'model__min_samples_split': [2, 10]\n",
    "    },\n",
    "    {\n",
    "        'model': [LGBMRegressor(random_state=RANDOM_STATE, n_jobs=1)],\n",
    "        'model__n_estimators': [700, 1500],\n",
    "        'model__learning_rate': [0.05, 0.1],\n",
    "    }\n",
    "]"
   ]
  },
  {
   "cell_type": "markdown",
   "metadata": {},
   "source": [
    "## Анализ моделей"
   ]
  },
  {
   "cell_type": "code",
   "execution_count": 39,
   "metadata": {},
   "outputs": [
    {
     "name": "stdout",
     "output_type": "stream",
     "text": [
      "Fitting 5 folds for each of 8 candidates, totalling 40 fits\n",
      "[CV] END model=DecisionTreeRegressor(random_state=44), model__max_depth=5, model__min_samples_split=2; total time=   1.2s\n",
      "[CV] END model=DecisionTreeRegressor(random_state=44), model__max_depth=5, model__min_samples_split=2; total time=   1.2s\n",
      "[CV] END model=DecisionTreeRegressor(random_state=44), model__max_depth=5, model__min_samples_split=2; total time=   1.2s\n",
      "[CV] END model=DecisionTreeRegressor(random_state=44), model__max_depth=5, model__min_samples_split=2; total time=   1.2s\n",
      "[CV] END model=DecisionTreeRegressor(random_state=44), model__max_depth=5, model__min_samples_split=2; total time=   1.2s\n",
      "[CV] END model=DecisionTreeRegressor(random_state=44), model__max_depth=5, model__min_samples_split=10; total time=   1.2s\n",
      "[CV] END model=DecisionTreeRegressor(random_state=44), model__max_depth=5, model__min_samples_split=10; total time=   1.2s\n",
      "[CV] END model=DecisionTreeRegressor(random_state=44), model__max_depth=5, model__min_samples_split=10; total time=   1.2s\n",
      "[CV] END model=DecisionTreeRegressor(random_state=44), model__max_depth=5, model__min_samples_split=10; total time=   1.2s\n",
      "[CV] END model=DecisionTreeRegressor(random_state=44), model__max_depth=5, model__min_samples_split=10; total time=   1.2s\n",
      "[CV] END model=DecisionTreeRegressor(random_state=44), model__max_depth=10, model__min_samples_split=2; total time=   3.9s\n",
      "[CV] END model=DecisionTreeRegressor(random_state=44), model__max_depth=10, model__min_samples_split=2; total time=   3.8s\n",
      "[CV] END model=DecisionTreeRegressor(random_state=44), model__max_depth=10, model__min_samples_split=2; total time=   3.9s\n",
      "[CV] END model=DecisionTreeRegressor(random_state=44), model__max_depth=10, model__min_samples_split=2; total time=   3.8s\n",
      "[CV] END model=DecisionTreeRegressor(random_state=44), model__max_depth=10, model__min_samples_split=2; total time=   3.8s\n",
      "[CV] END model=DecisionTreeRegressor(random_state=44), model__max_depth=10, model__min_samples_split=10; total time=   3.7s\n",
      "[CV] END model=DecisionTreeRegressor(random_state=44), model__max_depth=10, model__min_samples_split=10; total time=   3.7s\n",
      "[CV] END model=DecisionTreeRegressor(random_state=44), model__max_depth=10, model__min_samples_split=10; total time=   3.7s\n",
      "[CV] END model=DecisionTreeRegressor(random_state=44), model__max_depth=10, model__min_samples_split=10; total time=   3.7s\n",
      "[CV] END model=DecisionTreeRegressor(random_state=44), model__max_depth=10, model__min_samples_split=10; total time=   3.7s\n",
      "[CV] END model=LGBMRegressor(n_jobs=1, random_state=44), model__learning_rate=0.05, model__n_estimators=700; total time=   9.7s\n",
      "[CV] END model=LGBMRegressor(n_jobs=1, random_state=44), model__learning_rate=0.05, model__n_estimators=700; total time=  10.2s\n",
      "[CV] END model=LGBMRegressor(n_jobs=1, random_state=44), model__learning_rate=0.05, model__n_estimators=700; total time=   9.6s\n",
      "[CV] END model=LGBMRegressor(n_jobs=1, random_state=44), model__learning_rate=0.05, model__n_estimators=700; total time=   9.6s\n",
      "[CV] END model=LGBMRegressor(n_jobs=1, random_state=44), model__learning_rate=0.05, model__n_estimators=700; total time=   9.9s\n",
      "[CV] END model=LGBMRegressor(n_jobs=1, random_state=44), model__learning_rate=0.05, model__n_estimators=1500; total time=  19.5s\n",
      "[CV] END model=LGBMRegressor(n_jobs=1, random_state=44), model__learning_rate=0.05, model__n_estimators=1500; total time=  19.0s\n",
      "[CV] END model=LGBMRegressor(n_jobs=1, random_state=44), model__learning_rate=0.05, model__n_estimators=1500; total time=  19.1s\n",
      "[CV] END model=LGBMRegressor(n_jobs=1, random_state=44), model__learning_rate=0.05, model__n_estimators=1500; total time=  19.1s\n",
      "[CV] END model=LGBMRegressor(n_jobs=1, random_state=44), model__learning_rate=0.05, model__n_estimators=1500; total time=  18.8s\n",
      "[CV] END model=LGBMRegressor(n_jobs=1, random_state=44), model__learning_rate=0.1, model__n_estimators=700; total time=   8.6s\n",
      "[CV] END model=LGBMRegressor(n_jobs=1, random_state=44), model__learning_rate=0.1, model__n_estimators=700; total time=   8.3s\n",
      "[CV] END model=LGBMRegressor(n_jobs=1, random_state=44), model__learning_rate=0.1, model__n_estimators=700; total time=   8.5s\n",
      "[CV] END model=LGBMRegressor(n_jobs=1, random_state=44), model__learning_rate=0.1, model__n_estimators=700; total time=   8.3s\n",
      "[CV] END model=LGBMRegressor(n_jobs=1, random_state=44), model__learning_rate=0.1, model__n_estimators=700; total time=   8.2s\n",
      "[CV] END model=LGBMRegressor(n_jobs=1, random_state=44), model__learning_rate=0.1, model__n_estimators=1500; total time=  16.9s\n",
      "[CV] END model=LGBMRegressor(n_jobs=1, random_state=44), model__learning_rate=0.1, model__n_estimators=1500; total time=  16.2s\n",
      "[CV] END model=LGBMRegressor(n_jobs=1, random_state=44), model__learning_rate=0.1, model__n_estimators=1500; total time=  16.8s\n",
      "[CV] END model=LGBMRegressor(n_jobs=1, random_state=44), model__learning_rate=0.1, model__n_estimators=1500; total time=  16.2s\n",
      "[CV] END model=LGBMRegressor(n_jobs=1, random_state=44), model__learning_rate=0.1, model__n_estimators=1500; total time=  16.4s\n"
     ]
    },
    {
     "data": {
      "text/html": [
       "<div>\n",
       "<style scoped>\n",
       "    .dataframe tbody tr th:only-of-type {\n",
       "        vertical-align: middle;\n",
       "    }\n",
       "\n",
       "    .dataframe tbody tr th {\n",
       "        vertical-align: top;\n",
       "    }\n",
       "\n",
       "    .dataframe thead th {\n",
       "        text-align: right;\n",
       "    }\n",
       "</style>\n",
       "<table border=\"1\" class=\"dataframe\">\n",
       "  <thead>\n",
       "    <tr style=\"text-align: right;\">\n",
       "      <th></th>\n",
       "      <th>params</th>\n",
       "      <th>mean_fit_time</th>\n",
       "      <th>mean_score_time</th>\n",
       "      <th>mean_test_score</th>\n",
       "    </tr>\n",
       "  </thead>\n",
       "  <tbody>\n",
       "    <tr>\n",
       "      <th>0</th>\n",
       "      <td>{'model': DecisionTreeRegressor(random_state=4...</td>\n",
       "      <td>1.102617</td>\n",
       "      <td>0.095047</td>\n",
       "      <td>-2501.368214</td>\n",
       "    </tr>\n",
       "    <tr>\n",
       "      <th>1</th>\n",
       "      <td>{'model': DecisionTreeRegressor(random_state=4...</td>\n",
       "      <td>1.088281</td>\n",
       "      <td>0.093790</td>\n",
       "      <td>-2501.368214</td>\n",
       "    </tr>\n",
       "    <tr>\n",
       "      <th>2</th>\n",
       "      <td>{'model': DecisionTreeRegressor(random_state=4...</td>\n",
       "      <td>3.729018</td>\n",
       "      <td>0.098301</td>\n",
       "      <td>-2063.558895</td>\n",
       "    </tr>\n",
       "    <tr>\n",
       "      <th>3</th>\n",
       "      <td>{'model': DecisionTreeRegressor(random_state=4...</td>\n",
       "      <td>3.625948</td>\n",
       "      <td>0.093187</td>\n",
       "      <td>-2058.136590</td>\n",
       "    </tr>\n",
       "    <tr>\n",
       "      <th>4</th>\n",
       "      <td>{'model': LGBMRegressor(n_jobs=1, random_state...</td>\n",
       "      <td>7.493420</td>\n",
       "      <td>2.302395</td>\n",
       "      <td>-1689.373360</td>\n",
       "    </tr>\n",
       "    <tr>\n",
       "      <th>5</th>\n",
       "      <td>{'model': LGBMRegressor(n_jobs=1, random_state...</td>\n",
       "      <td>12.956607</td>\n",
       "      <td>6.140873</td>\n",
       "      <td>-1657.668214</td>\n",
       "    </tr>\n",
       "    <tr>\n",
       "      <th>6</th>\n",
       "      <td>{'model': LGBMRegressor(n_jobs=1, random_state...</td>\n",
       "      <td>6.422802</td>\n",
       "      <td>1.949445</td>\n",
       "      <td>-1659.833258</td>\n",
       "    </tr>\n",
       "    <tr>\n",
       "      <th>7</th>\n",
       "      <td>{'model': LGBMRegressor(n_jobs=1, random_state...</td>\n",
       "      <td>11.002428</td>\n",
       "      <td>5.476601</td>\n",
       "      <td>-1636.992628</td>\n",
       "    </tr>\n",
       "  </tbody>\n",
       "</table>\n",
       "</div>"
      ],
      "text/plain": [
       "                                              params  mean_fit_time  \\\n",
       "0  {'model': DecisionTreeRegressor(random_state=4...       1.102617   \n",
       "1  {'model': DecisionTreeRegressor(random_state=4...       1.088281   \n",
       "2  {'model': DecisionTreeRegressor(random_state=4...       3.729018   \n",
       "3  {'model': DecisionTreeRegressor(random_state=4...       3.625948   \n",
       "4  {'model': LGBMRegressor(n_jobs=1, random_state...       7.493420   \n",
       "5  {'model': LGBMRegressor(n_jobs=1, random_state...      12.956607   \n",
       "6  {'model': LGBMRegressor(n_jobs=1, random_state...       6.422802   \n",
       "7  {'model': LGBMRegressor(n_jobs=1, random_state...      11.002428   \n",
       "\n",
       "   mean_score_time  mean_test_score  \n",
       "0         0.095047     -2501.368214  \n",
       "1         0.093790     -2501.368214  \n",
       "2         0.098301     -2063.558895  \n",
       "3         0.093187     -2058.136590  \n",
       "4         2.302395     -1689.373360  \n",
       "5         6.140873     -1657.668214  \n",
       "6         1.949445     -1659.833258  \n",
       "7         5.476601     -1636.992628  "
      ]
     },
     "metadata": {},
     "output_type": "display_data"
    }
   ],
   "source": [
    "grid = GridSearchCV(\n",
    "    pipe,\n",
    "    param_grid=param_grid,\n",
    "    scoring='neg_root_mean_squared_error',\n",
    "    n_jobs=-1,\n",
    "    verbose=2,\n",
    "    refit=False,                 \n",
    "    return_train_score=False\n",
    ")\n",
    "\n",
    "grid.fit(X_train, y_train)\n",
    "\n",
    "\n",
    "cv_df = pd.DataFrame(grid.cv_results_)[['params', 'mean_fit_time', 'mean_score_time', 'mean_test_score']]\n",
    "display(cv_df)\n"
   ]
  },
  {
   "cell_type": "markdown",
   "metadata": {},
   "source": [
    "**Комментарий**: \n",
    "```\n",
    "Проведем детальный анализ.\n",
    "- Модели дерева решений с разными гиперпараметрами(1.1-3.7) обучается быстре чем модель бустинга(6.4-13)\n",
    "- Модели бустинга также в некоторых случаях предсказывают дольше почти в 10 раз\n",
    "- Но бустинг имеет лучшие показатели метрики, первые два значения из нашей таблицы с результатами обучения, можем сразу отсечь, они нам не подходят из-за высокой метрики. Если рассматривать оставшиеся модели, то модели дерева решений имеют метрику которая в принципе нам подходит, а обучаются и предсказывают они быстрее бустинга, но значение метрики у бустинга все-таки лучше. Поэтому будем выбирать оптимальный вариант из бустинга.\n",
    "- Принято решение взять модель бустинга с гиперпараметрами: количество деревьев в ансамбле-1500 и шагом обучения 0.1. Оно имеет относительно других моделей бустинга хорошое время обучения и значение метрики составляет 1637, что нам подходит.\n",
    "```"
   ]
  },
  {
   "cell_type": "code",
   "execution_count": 41,
   "metadata": {},
   "outputs": [
    {
     "name": "stdout",
     "output_type": "stream",
     "text": [
      "Время обучения финальной модели: 13.63 с\n",
      "RMSE на валидации: 1626.1469428266414\n",
      "Время предсказания: 9.1169 с\n"
     ]
    }
   ],
   "source": [
    "final_pipe = Pipeline([\n",
    "    ('preprocessor', preprocessor),\n",
    "    ('model', LGBMRegressor(\n",
    "        random_state=RANDOM_STATE,\n",
    "        n_jobs=-1,\n",
    "        n_estimators=1500,\n",
    "        learning_rate=0.1\n",
    "    ))\n",
    "])\n",
    "\n",
    "t0 = time()\n",
    "final_pipe.fit(X_train, y_train)\n",
    "t1 = time()\n",
    "print(\"Время обучения финальной модели:\", round(t1 - t0, 2), \"с\")\n",
    "\n",
    "t0 = time()\n",
    "y_pred = final_pipe.predict(X_val)\n",
    "t1 = time()\n",
    "rmse = mean_squared_error(y_val, y_pred, squared=False)\n",
    "print(\"RMSE на валидации:\", rmse)\n",
    "print(\"Время предсказания:\", round(t1 - t0, 4), \"с\")\n"
   ]
  },
  {
   "cell_type": "markdown",
   "metadata": {},
   "source": [
    "**Комментарий**: И на валидационной выборки результат метрики нам подходит - `1652.7`. **Модель LGBM с гиперпараметром: n_estimators=1500 и learning_rate = 0.1 лучше всего подходит для решения поставленной задачи, время предсказания составило `9.1 секунд`, а время обучения `13.6 секунд`**"
   ]
  },
  {
   "cell_type": "markdown",
   "metadata": {},
   "source": [
    "# Финальный вывод по проекту «Определение стоимости автомобилей»\n",
    "\n",
    "В проекте была решена задача построения модели, предсказывающей рыночную стоимость автомобиля для сервиса **«Не бит, не крашен»**.  \n",
    "\n",
    "---\n",
    "\n",
    "## Этапы работы\n",
    "\n",
    "### Подготовка данных\n",
    "- Загружен датасет из ~**350 тысяч** объявлений.  \n",
    "- Выявлены пропуски в признаках: *VehicleType, Gearbox, Model, FuelType, Repaired* — обработаны модой и заглушками.  \n",
    "- Удалены дубликаты и аномальные значения.  \n",
    "- Исключены неинформативные признаки: **даты, количество фотографий** и др.  \n",
    "\n",
    "### Анализ данных\n",
    "- Изучены распределения и зависимости признаков.  \n",
    "- Проведена работа с выбросами в **цене** и **мощности автомобилей**.  \n",
    "- Определены ключевые факторы, влияющие на стоимость:  \n",
    "  возраст авто, пробег, мощность двигателя, топливо и тип коробки передач.  \n",
    "\n",
    "### Обучение моделей\n",
    "- Протестированы **линейные**, **деревообразные** модели и **ансамблевые методы**.  \n",
    "- В качестве основной выбрана модель **LGBMRegressor**.  \n",
    "- Настроены гиперпараметры, оптимальное значение:  \n",
    "  - `n_estimators = 1500`. \n",
    "  - `learning_rate = 0.1`\n",
    "\n",
    "### Результаты\n",
    "- Ошибка модели (RMSE):  \n",
    "  - ~**1637** на обучении,  \n",
    "  - ~**1652** на валидации.  \n",
    "- Время обучения: **13.6 секунд**.  \n",
    "- Время предсказания: **9.1 секунды**.  \n",
    "\n",
    "---\n",
    "\n",
    "## Итог\n",
    "Модель **LGBMRegressor** показала наилучший баланс качества и производительности. Она удовлетворяет требованиям заказчика:  \n",
    "\n",
    "- даёт **низкую ошибку предсказания**,  \n",
    "- работает **достаточно быстро при предсказаниях**,  \n",
    "- обучение занимает **приемлемое время** для регулярного обновления модели.  \n",
    "\n",
    "Таким образом, построенная модель может быть внедрена в сервис и использоваться для оценки рыночной стоимости автомобилей, что позволит **привлекать новых клиентов** и **повысить доверие к платформе**.  \n"
   ]
  }
 ],
 "metadata": {
  "ExecuteTimeLog": [
   {
    "duration": 441,
    "start_time": "2025-09-15T12:23:44.519Z"
   },
   {
    "duration": 1245,
    "start_time": "2025-09-15T12:24:19.528Z"
   },
   {
    "duration": 19,
    "start_time": "2025-09-15T12:24:57.205Z"
   },
   {
    "duration": 161,
    "start_time": "2025-09-15T12:26:15.292Z"
   },
   {
    "duration": 284,
    "start_time": "2025-09-15T12:30:04.294Z"
   },
   {
    "duration": 207,
    "start_time": "2025-09-15T12:30:14.987Z"
   },
   {
    "duration": 151,
    "start_time": "2025-09-15T12:30:18.427Z"
   },
   {
    "duration": 153,
    "start_time": "2025-09-15T12:30:23.823Z"
   },
   {
    "duration": 43,
    "start_time": "2025-09-15T12:40:29.457Z"
   },
   {
    "duration": 54,
    "start_time": "2025-09-15T12:40:46.217Z"
   },
   {
    "duration": 237,
    "start_time": "2025-09-15T12:44:40.517Z"
   },
   {
    "duration": 155,
    "start_time": "2025-09-15T12:45:40.986Z"
   },
   {
    "duration": 504,
    "start_time": "2025-09-15T12:45:55.754Z"
   },
   {
    "duration": 506,
    "start_time": "2025-09-15T12:46:07.885Z"
   },
   {
    "duration": 161,
    "start_time": "2025-09-15T12:46:25.317Z"
   },
   {
    "duration": 54,
    "start_time": "2025-09-15T12:52:52.937Z"
   },
   {
    "duration": 169,
    "start_time": "2025-09-15T12:54:47.136Z"
   },
   {
    "duration": 493,
    "start_time": "2025-09-15T12:57:16.386Z"
   },
   {
    "duration": 3660,
    "start_time": "2025-09-15T12:57:30.724Z"
   },
   {
    "duration": 860,
    "start_time": "2025-09-15T12:57:39.168Z"
   },
   {
    "duration": 5,
    "start_time": "2025-09-15T12:58:26.896Z"
   },
   {
    "duration": 2269,
    "start_time": "2025-09-15T12:59:06.186Z"
   },
   {
    "duration": 48,
    "start_time": "2025-09-15T13:01:29.585Z"
   },
   {
    "duration": 18,
    "start_time": "2025-09-15T13:01:45.254Z"
   },
   {
    "duration": 2540,
    "start_time": "2025-09-15T13:01:56.379Z"
   },
   {
    "duration": 1531,
    "start_time": "2025-09-15T13:01:58.922Z"
   },
   {
    "duration": 1018,
    "start_time": "2025-09-15T13:02:00.456Z"
   },
   {
    "duration": 18,
    "start_time": "2025-09-15T13:02:01.476Z"
   },
   {
    "duration": 204,
    "start_time": "2025-09-15T13:02:01.496Z"
   },
   {
    "duration": 172,
    "start_time": "2025-09-15T13:02:01.701Z"
   },
   {
    "duration": 235,
    "start_time": "2025-09-15T13:02:01.874Z"
   },
   {
    "duration": 91,
    "start_time": "2025-09-15T13:02:02.111Z"
   },
   {
    "duration": 158,
    "start_time": "2025-09-15T13:02:02.204Z"
   },
   {
    "duration": 207,
    "start_time": "2025-09-15T13:02:02.363Z"
   },
   {
    "duration": 194,
    "start_time": "2025-09-15T13:04:24.457Z"
   },
   {
    "duration": 4,
    "start_time": "2025-09-15T13:08:32.910Z"
   },
   {
    "duration": 147,
    "start_time": "2025-09-15T13:16:24.315Z"
   },
   {
    "duration": 45,
    "start_time": "2025-09-15T13:16:34.978Z"
   },
   {
    "duration": 16,
    "start_time": "2025-09-15T13:23:24.772Z"
   },
   {
    "duration": 4,
    "start_time": "2025-09-15T13:23:53.626Z"
   },
   {
    "duration": 14,
    "start_time": "2025-09-15T13:24:05.161Z"
   },
   {
    "duration": 11,
    "start_time": "2025-09-15T13:24:12.687Z"
   },
   {
    "duration": 214,
    "start_time": "2025-09-15T13:24:15.504Z"
   },
   {
    "duration": 8,
    "start_time": "2025-09-15T13:24:37.624Z"
   },
   {
    "duration": 181,
    "start_time": "2025-09-15T13:24:42.453Z"
   },
   {
    "duration": 13,
    "start_time": "2025-09-15T13:24:45.401Z"
   },
   {
    "duration": 4,
    "start_time": "2025-09-15T13:24:55.005Z"
   },
   {
    "duration": 2904,
    "start_time": "2025-09-15T13:25:16.316Z"
   },
   {
    "duration": 1626,
    "start_time": "2025-09-15T13:25:19.223Z"
   },
   {
    "duration": 1128,
    "start_time": "2025-09-15T13:25:20.851Z"
   },
   {
    "duration": 21,
    "start_time": "2025-09-15T13:25:21.981Z"
   },
   {
    "duration": 206,
    "start_time": "2025-09-15T13:25:22.004Z"
   },
   {
    "duration": 208,
    "start_time": "2025-09-15T13:25:22.212Z"
   },
   {
    "duration": 286,
    "start_time": "2025-09-15T13:25:22.422Z"
   },
   {
    "duration": 96,
    "start_time": "2025-09-15T13:25:22.709Z"
   },
   {
    "duration": 170,
    "start_time": "2025-09-15T13:25:22.807Z"
   },
   {
    "duration": 335,
    "start_time": "2025-09-15T13:25:22.979Z"
   },
   {
    "duration": 0,
    "start_time": "2025-09-15T13:25:23.316Z"
   },
   {
    "duration": 7,
    "start_time": "2025-09-15T13:25:38.013Z"
   },
   {
    "duration": 2781,
    "start_time": "2025-09-15T13:25:43.247Z"
   },
   {
    "duration": 1791,
    "start_time": "2025-09-15T13:25:46.031Z"
   },
   {
    "duration": 1141,
    "start_time": "2025-09-15T13:25:47.824Z"
   },
   {
    "duration": 24,
    "start_time": "2025-09-15T13:25:48.970Z"
   },
   {
    "duration": 215,
    "start_time": "2025-09-15T13:25:48.996Z"
   },
   {
    "duration": 194,
    "start_time": "2025-09-15T13:25:49.213Z"
   },
   {
    "duration": 276,
    "start_time": "2025-09-15T13:25:49.408Z"
   },
   {
    "duration": 103,
    "start_time": "2025-09-15T13:25:49.686Z"
   },
   {
    "duration": 173,
    "start_time": "2025-09-15T13:25:49.791Z"
   },
   {
    "duration": 238,
    "start_time": "2025-09-15T13:25:49.974Z"
   },
   {
    "duration": 4,
    "start_time": "2025-09-15T13:25:50.214Z"
   },
   {
    "duration": 3131,
    "start_time": "2025-09-16T08:13:38.319Z"
   },
   {
    "duration": 1601,
    "start_time": "2025-09-16T08:13:41.452Z"
   },
   {
    "duration": 872,
    "start_time": "2025-09-16T08:13:43.055Z"
   },
   {
    "duration": 27,
    "start_time": "2025-09-16T08:13:43.928Z"
   },
   {
    "duration": 160,
    "start_time": "2025-09-16T08:13:43.957Z"
   },
   {
    "duration": 146,
    "start_time": "2025-09-16T08:13:44.118Z"
   },
   {
    "duration": 205,
    "start_time": "2025-09-16T08:13:44.265Z"
   },
   {
    "duration": 91,
    "start_time": "2025-09-16T08:13:44.472Z"
   },
   {
    "duration": 129,
    "start_time": "2025-09-16T08:13:44.565Z"
   },
   {
    "duration": 188,
    "start_time": "2025-09-16T08:13:44.696Z"
   },
   {
    "duration": 4,
    "start_time": "2025-09-16T08:13:44.885Z"
   },
   {
    "duration": 6,
    "start_time": "2025-09-16T08:23:17.336Z"
   },
   {
    "duration": 4,
    "start_time": "2025-09-16T08:26:11.392Z"
   },
   {
    "duration": 115,
    "start_time": "2025-09-16T08:28:04.812Z"
   },
   {
    "duration": 13,
    "start_time": "2025-09-16T08:28:25.837Z"
   },
   {
    "duration": 4,
    "start_time": "2025-09-16T08:29:20.613Z"
   },
   {
    "duration": 14,
    "start_time": "2025-09-16T08:29:24.346Z"
   },
   {
    "duration": 14,
    "start_time": "2025-09-16T08:31:08.918Z"
   },
   {
    "duration": 3,
    "start_time": "2025-09-16T08:32:33.250Z"
   },
   {
    "duration": 14,
    "start_time": "2025-09-16T08:33:45.689Z"
   },
   {
    "duration": 14,
    "start_time": "2025-09-16T08:35:58.892Z"
   },
   {
    "duration": 14,
    "start_time": "2025-09-16T08:39:23.644Z"
   },
   {
    "duration": 14,
    "start_time": "2025-09-16T08:42:48.991Z"
   },
   {
    "duration": 17,
    "start_time": "2025-09-16T08:43:32.033Z"
   },
   {
    "duration": 62165,
    "start_time": "2025-09-16T08:44:04.791Z"
   },
   {
    "duration": 22,
    "start_time": "2025-09-16T08:45:29.942Z"
   },
   {
    "duration": 10703,
    "start_time": "2025-09-16T08:46:53.196Z"
   },
   {
    "duration": 3,
    "start_time": "2025-09-16T08:47:47.803Z"
   },
   {
    "duration": 2468,
    "start_time": "2025-09-16T08:47:54.025Z"
   },
   {
    "duration": 3,
    "start_time": "2025-09-16T08:47:56.495Z"
   },
   {
    "duration": 1681,
    "start_time": "2025-09-16T08:47:56.499Z"
   },
   {
    "duration": 923,
    "start_time": "2025-09-16T08:47:58.183Z"
   },
   {
    "duration": 17,
    "start_time": "2025-09-16T08:47:59.108Z"
   },
   {
    "duration": 184,
    "start_time": "2025-09-16T08:47:59.127Z"
   },
   {
    "duration": 134,
    "start_time": "2025-09-16T08:47:59.312Z"
   },
   {
    "duration": 199,
    "start_time": "2025-09-16T08:47:59.448Z"
   },
   {
    "duration": 83,
    "start_time": "2025-09-16T08:47:59.649Z"
   },
   {
    "duration": 128,
    "start_time": "2025-09-16T08:47:59.739Z"
   },
   {
    "duration": 185,
    "start_time": "2025-09-16T08:47:59.868Z"
   },
   {
    "duration": 24479,
    "start_time": "2025-09-16T08:48:00.055Z"
   },
   {
    "duration": 172,
    "start_time": "2025-09-16T08:50:28.705Z"
   },
   {
    "duration": 2628,
    "start_time": "2025-09-16T08:52:02.434Z"
   },
   {
    "duration": 3,
    "start_time": "2025-09-16T08:52:05.064Z"
   },
   {
    "duration": 1838,
    "start_time": "2025-09-16T08:52:05.069Z"
   },
   {
    "duration": 891,
    "start_time": "2025-09-16T08:52:06.909Z"
   },
   {
    "duration": 17,
    "start_time": "2025-09-16T08:52:07.802Z"
   },
   {
    "duration": 160,
    "start_time": "2025-09-16T08:52:07.820Z"
   },
   {
    "duration": 151,
    "start_time": "2025-09-16T08:52:07.982Z"
   },
   {
    "duration": 212,
    "start_time": "2025-09-16T08:52:08.140Z"
   },
   {
    "duration": 86,
    "start_time": "2025-09-16T08:52:08.354Z"
   },
   {
    "duration": 133,
    "start_time": "2025-09-16T08:52:08.442Z"
   },
   {
    "duration": 186,
    "start_time": "2025-09-16T08:52:08.576Z"
   },
   {
    "duration": 5011,
    "start_time": "2025-09-16T08:52:08.764Z"
   },
   {
    "duration": 3220,
    "start_time": "2025-09-16T15:46:41.577Z"
   },
   {
    "duration": 3,
    "start_time": "2025-09-16T15:46:44.800Z"
   },
   {
    "duration": 1760,
    "start_time": "2025-09-16T15:46:44.804Z"
   },
   {
    "duration": 1754,
    "start_time": "2025-09-16T15:46:46.566Z"
   },
   {
    "duration": 18,
    "start_time": "2025-09-16T15:46:48.322Z"
   },
   {
    "duration": 165,
    "start_time": "2025-09-16T15:46:48.341Z"
   },
   {
    "duration": 159,
    "start_time": "2025-09-16T15:46:48.507Z"
   },
   {
    "duration": 289,
    "start_time": "2025-09-16T15:46:48.668Z"
   },
   {
    "duration": 95,
    "start_time": "2025-09-16T15:46:48.959Z"
   },
   {
    "duration": 160,
    "start_time": "2025-09-16T15:46:49.056Z"
   },
   {
    "duration": 218,
    "start_time": "2025-09-16T15:46:49.218Z"
   },
   {
    "duration": 1594,
    "start_time": "2025-09-16T15:52:11.416Z"
   },
   {
    "duration": 118,
    "start_time": "2025-09-16T15:53:27.039Z"
   },
   {
    "duration": 14,
    "start_time": "2025-09-16T15:53:37.787Z"
   },
   {
    "duration": 2529,
    "start_time": "2025-09-16T15:53:48.063Z"
   },
   {
    "duration": 4,
    "start_time": "2025-09-16T15:53:50.594Z"
   },
   {
    "duration": 1512,
    "start_time": "2025-09-16T15:53:50.600Z"
   },
   {
    "duration": 1710,
    "start_time": "2025-09-16T15:53:52.113Z"
   },
   {
    "duration": 16,
    "start_time": "2025-09-16T15:53:53.826Z"
   },
   {
    "duration": 190,
    "start_time": "2025-09-16T15:53:53.844Z"
   },
   {
    "duration": 161,
    "start_time": "2025-09-16T15:53:54.035Z"
   },
   {
    "duration": 274,
    "start_time": "2025-09-16T15:53:54.198Z"
   },
   {
    "duration": 86,
    "start_time": "2025-09-16T15:53:54.474Z"
   },
   {
    "duration": 174,
    "start_time": "2025-09-16T15:53:54.561Z"
   },
   {
    "duration": 302,
    "start_time": "2025-09-16T15:53:54.736Z"
   },
   {
    "duration": 131,
    "start_time": "2025-09-16T15:53:55.040Z"
   },
   {
    "duration": 4,
    "start_time": "2025-09-16T15:54:24.554Z"
   },
   {
    "duration": 194,
    "start_time": "2025-09-16T15:54:30.362Z"
   },
   {
    "duration": 15,
    "start_time": "2025-09-16T15:54:32.897Z"
   },
   {
    "duration": 58,
    "start_time": "2025-09-16T15:54:39.906Z"
   },
   {
    "duration": 170,
    "start_time": "2025-09-16T15:56:12.956Z"
   },
   {
    "duration": 24731,
    "start_time": "2025-09-16T15:56:14.489Z"
   },
   {
    "duration": 160,
    "start_time": "2025-09-16T15:57:04.886Z"
   },
   {
    "duration": 129509,
    "start_time": "2025-09-16T15:57:06.353Z"
   },
   {
    "duration": 0,
    "start_time": "2025-09-16T15:59:15.864Z"
   },
   {
    "duration": 201155,
    "start_time": "2025-09-16T16:00:32.809Z"
   },
   {
    "duration": 263904,
    "start_time": "2025-09-16T16:04:03.451Z"
   },
   {
    "duration": 3,
    "start_time": "2025-09-16T16:09:06.762Z"
   },
   {
    "duration": 2384,
    "start_time": "2025-09-16T16:09:13.877Z"
   },
   {
    "duration": 3,
    "start_time": "2025-09-16T16:09:16.264Z"
   },
   {
    "duration": 1480,
    "start_time": "2025-09-16T16:09:16.269Z"
   },
   {
    "duration": 846,
    "start_time": "2025-09-16T16:09:17.751Z"
   },
   {
    "duration": 17,
    "start_time": "2025-09-16T16:09:18.599Z"
   },
   {
    "duration": 152,
    "start_time": "2025-09-16T16:09:18.618Z"
   },
   {
    "duration": 132,
    "start_time": "2025-09-16T16:09:18.775Z"
   },
   {
    "duration": 209,
    "start_time": "2025-09-16T16:09:18.909Z"
   },
   {
    "duration": 84,
    "start_time": "2025-09-16T16:09:19.120Z"
   },
   {
    "duration": 128,
    "start_time": "2025-09-16T16:09:19.205Z"
   },
   {
    "duration": 205,
    "start_time": "2025-09-16T16:09:19.335Z"
   },
   {
    "duration": 54,
    "start_time": "2025-09-16T16:09:19.542Z"
   },
   {
    "duration": 0,
    "start_time": "2025-09-16T16:09:19.598Z"
   },
   {
    "duration": 1701092,
    "start_time": "2025-09-16T16:09:34.231Z"
   },
   {
    "duration": 109,
    "start_time": "2025-09-16T16:39:55.950Z"
   },
   {
    "duration": 23,
    "start_time": "2025-09-16T16:40:01.938Z"
   },
   {
    "duration": 7,
    "start_time": "2025-09-16T16:40:36.156Z"
   },
   {
    "duration": 9,
    "start_time": "2025-09-16T16:40:49.712Z"
   },
   {
    "duration": 10,
    "start_time": "2025-09-16T16:41:00.461Z"
   },
   {
    "duration": 23,
    "start_time": "2025-09-16T16:41:08.547Z"
   },
   {
    "duration": 7,
    "start_time": "2025-09-16T16:41:12.030Z"
   },
   {
    "duration": 4,
    "start_time": "2025-09-16T16:54:04.515Z"
   },
   {
    "duration": 25,
    "start_time": "2025-09-16T17:00:00.414Z"
   },
   {
    "duration": 4,
    "start_time": "2025-09-16T17:00:01.130Z"
   },
   {
    "duration": 3,
    "start_time": "2025-09-16T17:02:37.481Z"
   },
   {
    "duration": 30159,
    "start_time": "2025-09-16T17:03:01.108Z"
   },
   {
    "duration": 30287,
    "start_time": "2025-09-16T17:05:07.918Z"
   },
   {
    "duration": 30197,
    "start_time": "2025-09-16T17:06:37.523Z"
   },
   {
    "duration": 3374,
    "start_time": "2025-09-17T09:55:54.354Z"
   },
   {
    "duration": 3,
    "start_time": "2025-09-17T09:56:16.776Z"
   },
   {
    "duration": 1751,
    "start_time": "2025-09-17T09:56:17.300Z"
   },
   {
    "duration": 9,
    "start_time": "2025-09-17T09:56:24.910Z"
   },
   {
    "duration": 1563,
    "start_time": "2025-09-17T09:56:24.921Z"
   },
   {
    "duration": 942,
    "start_time": "2025-09-17T09:56:26.486Z"
   },
   {
    "duration": 19,
    "start_time": "2025-09-17T09:56:27.429Z"
   },
   {
    "duration": 166,
    "start_time": "2025-09-17T09:56:27.450Z"
   },
   {
    "duration": 151,
    "start_time": "2025-09-17T09:56:27.618Z"
   },
   {
    "duration": 199,
    "start_time": "2025-09-17T09:56:27.771Z"
   },
   {
    "duration": 83,
    "start_time": "2025-09-17T09:56:27.972Z"
   },
   {
    "duration": 142,
    "start_time": "2025-09-17T09:56:28.057Z"
   },
   {
    "duration": 198,
    "start_time": "2025-09-17T09:56:28.200Z"
   },
   {
    "duration": 197996,
    "start_time": "2025-09-17T09:56:28.402Z"
   },
   {
    "duration": 0,
    "start_time": "2025-09-17T09:59:46.401Z"
   },
   {
    "duration": 0,
    "start_time": "2025-09-17T09:59:46.402Z"
   },
   {
    "duration": 0,
    "start_time": "2025-09-17T09:59:46.404Z"
   },
   {
    "duration": 0,
    "start_time": "2025-09-17T09:59:46.406Z"
   },
   {
    "duration": 0,
    "start_time": "2025-09-17T09:59:46.411Z"
   },
   {
    "duration": 0,
    "start_time": "2025-09-17T09:59:46.412Z"
   },
   {
    "duration": 0,
    "start_time": "2025-09-17T09:59:46.413Z"
   },
   {
    "duration": 0,
    "start_time": "2025-09-17T09:59:46.416Z"
   },
   {
    "duration": 0,
    "start_time": "2025-09-17T09:59:46.417Z"
   },
   {
    "duration": 4,
    "start_time": "2025-09-17T09:59:54.193Z"
   },
   {
    "duration": 950,
    "start_time": "2025-09-17T09:59:55.026Z"
   },
   {
    "duration": 21,
    "start_time": "2025-09-17T09:59:55.978Z"
   },
   {
    "duration": 150,
    "start_time": "2025-09-17T09:59:57.533Z"
   },
   {
    "duration": 147,
    "start_time": "2025-09-17T09:59:58.190Z"
   },
   {
    "duration": 207,
    "start_time": "2025-09-17T09:59:58.604Z"
   },
   {
    "duration": 66,
    "start_time": "2025-09-17T09:59:59.197Z"
   },
   {
    "duration": 14,
    "start_time": "2025-09-17T10:00:00.213Z"
   },
   {
    "duration": 11,
    "start_time": "2025-09-17T10:02:20.588Z"
   },
   {
    "duration": 221,
    "start_time": "2025-09-17T10:02:30.757Z"
   },
   {
    "duration": 208,
    "start_time": "2025-09-17T10:02:37.004Z"
   },
   {
    "duration": 218,
    "start_time": "2025-09-17T10:02:45.025Z"
   },
   {
    "duration": 312,
    "start_time": "2025-09-17T10:03:16.455Z"
   },
   {
    "duration": 254,
    "start_time": "2025-09-17T10:03:23.650Z"
   },
   {
    "duration": 2063,
    "start_time": "2025-09-17T10:10:12.687Z"
   },
   {
    "duration": 178,
    "start_time": "2025-09-17T10:10:21.168Z"
   },
   {
    "duration": 188,
    "start_time": "2025-09-17T10:10:33.635Z"
   },
   {
    "duration": 319,
    "start_time": "2025-09-17T10:10:47.635Z"
   },
   {
    "duration": 202,
    "start_time": "2025-09-17T10:10:53.197Z"
   },
   {
    "duration": 235,
    "start_time": "2025-09-17T10:11:20.294Z"
   },
   {
    "duration": 2246,
    "start_time": "2025-09-17T10:18:01.343Z"
   },
   {
    "duration": 244,
    "start_time": "2025-09-17T10:19:16.554Z"
   },
   {
    "duration": 19,
    "start_time": "2025-09-17T10:20:03.080Z"
   },
   {
    "duration": 18,
    "start_time": "2025-09-17T10:20:44.086Z"
   },
   {
    "duration": 8,
    "start_time": "2025-09-17T10:24:08.105Z"
   },
   {
    "duration": 14,
    "start_time": "2025-09-17T10:24:17.579Z"
   },
   {
    "duration": 13,
    "start_time": "2025-09-17T10:24:26.293Z"
   },
   {
    "duration": 12,
    "start_time": "2025-09-17T10:24:29.011Z"
   },
   {
    "duration": 11,
    "start_time": "2025-09-17T10:24:31.988Z"
   },
   {
    "duration": 11,
    "start_time": "2025-09-17T10:24:34.654Z"
   },
   {
    "duration": 6,
    "start_time": "2025-09-17T10:24:39.627Z"
   },
   {
    "duration": 652,
    "start_time": "2025-09-17T10:27:45.546Z"
   },
   {
    "duration": 359,
    "start_time": "2025-09-17T10:27:50.149Z"
   },
   {
    "duration": 403,
    "start_time": "2025-09-17T10:28:04.261Z"
   },
   {
    "duration": 332,
    "start_time": "2025-09-17T10:28:04.669Z"
   },
   {
    "duration": 620,
    "start_time": "2025-09-17T10:28:22.683Z"
   },
   {
    "duration": 299,
    "start_time": "2025-09-17T10:29:06.378Z"
   },
   {
    "duration": 297,
    "start_time": "2025-09-17T10:29:16.571Z"
   },
   {
    "duration": 39,
    "start_time": "2025-09-17T10:29:47.339Z"
   },
   {
    "duration": 39,
    "start_time": "2025-09-17T10:30:16.054Z"
   },
   {
    "duration": 3,
    "start_time": "2025-09-17T10:30:32.201Z"
   },
   {
    "duration": 4,
    "start_time": "2025-09-17T10:30:32.465Z"
   },
   {
    "duration": 850,
    "start_time": "2025-09-17T10:30:33.214Z"
   },
   {
    "duration": 14,
    "start_time": "2025-09-17T10:30:34.067Z"
   },
   {
    "duration": 157,
    "start_time": "2025-09-17T10:30:34.243Z"
   },
   {
    "duration": 147,
    "start_time": "2025-09-17T10:30:35.414Z"
   },
   {
    "duration": 222,
    "start_time": "2025-09-17T10:30:35.875Z"
   },
   {
    "duration": 51,
    "start_time": "2025-09-17T10:30:36.582Z"
   },
   {
    "duration": 13,
    "start_time": "2025-09-17T10:30:38.053Z"
   },
   {
    "duration": 18,
    "start_time": "2025-09-17T10:30:39.144Z"
   },
   {
    "duration": 258,
    "start_time": "2025-09-17T10:30:41.957Z"
   },
   {
    "duration": 361,
    "start_time": "2025-09-17T10:30:43.341Z"
   },
   {
    "duration": 24,
    "start_time": "2025-09-17T10:30:44.698Z"
   },
   {
    "duration": 7,
    "start_time": "2025-09-17T10:30:45.395Z"
   },
   {
    "duration": 719,
    "start_time": "2025-09-17T10:30:48.168Z"
   },
   {
    "duration": 346,
    "start_time": "2025-09-17T10:30:48.889Z"
   },
   {
    "duration": 354,
    "start_time": "2025-09-17T10:30:59.989Z"
   },
   {
    "duration": 9,
    "start_time": "2025-09-17T10:32:20.169Z"
   },
   {
    "duration": 1024,
    "start_time": "2025-09-17T10:32:20.180Z"
   },
   {
    "duration": 0,
    "start_time": "2025-09-17T10:32:21.207Z"
   },
   {
    "duration": 0,
    "start_time": "2025-09-17T10:32:21.209Z"
   },
   {
    "duration": 0,
    "start_time": "2025-09-17T10:32:21.210Z"
   },
   {
    "duration": 0,
    "start_time": "2025-09-17T10:32:21.212Z"
   },
   {
    "duration": 0,
    "start_time": "2025-09-17T10:32:21.214Z"
   },
   {
    "duration": 0,
    "start_time": "2025-09-17T10:32:21.215Z"
   },
   {
    "duration": 0,
    "start_time": "2025-09-17T10:32:21.217Z"
   },
   {
    "duration": 0,
    "start_time": "2025-09-17T10:32:21.218Z"
   },
   {
    "duration": 0,
    "start_time": "2025-09-17T10:32:21.220Z"
   },
   {
    "duration": 0,
    "start_time": "2025-09-17T10:32:21.221Z"
   },
   {
    "duration": 0,
    "start_time": "2025-09-17T10:32:21.223Z"
   },
   {
    "duration": 0,
    "start_time": "2025-09-17T10:32:21.224Z"
   },
   {
    "duration": 0,
    "start_time": "2025-09-17T10:32:21.226Z"
   },
   {
    "duration": 0,
    "start_time": "2025-09-17T10:32:21.227Z"
   },
   {
    "duration": 0,
    "start_time": "2025-09-17T10:32:21.229Z"
   },
   {
    "duration": 0,
    "start_time": "2025-09-17T10:32:21.231Z"
   },
   {
    "duration": 0,
    "start_time": "2025-09-17T10:32:21.233Z"
   },
   {
    "duration": 0,
    "start_time": "2025-09-17T10:32:21.234Z"
   },
   {
    "duration": 0,
    "start_time": "2025-09-17T10:32:21.235Z"
   },
   {
    "duration": 0,
    "start_time": "2025-09-17T10:32:21.237Z"
   },
   {
    "duration": 3,
    "start_time": "2025-09-17T10:32:29.463Z"
   },
   {
    "duration": 644,
    "start_time": "2025-09-17T10:32:29.719Z"
   },
   {
    "duration": 949,
    "start_time": "2025-09-17T10:32:30.725Z"
   },
   {
    "duration": 26,
    "start_time": "2025-09-17T10:32:31.676Z"
   },
   {
    "duration": 148,
    "start_time": "2025-09-17T10:32:32.750Z"
   },
   {
    "duration": 146,
    "start_time": "2025-09-17T10:32:33.605Z"
   },
   {
    "duration": 204,
    "start_time": "2025-09-17T10:32:34.174Z"
   },
   {
    "duration": 78,
    "start_time": "2025-09-17T10:32:35.098Z"
   },
   {
    "duration": 13,
    "start_time": "2025-09-17T10:32:36.530Z"
   },
   {
    "duration": 19,
    "start_time": "2025-09-17T10:32:37.240Z"
   },
   {
    "duration": 266,
    "start_time": "2025-09-17T10:32:37.833Z"
   },
   {
    "duration": 223,
    "start_time": "2025-09-17T10:32:38.867Z"
   },
   {
    "duration": 17,
    "start_time": "2025-09-17T10:32:39.681Z"
   },
   {
    "duration": 6,
    "start_time": "2025-09-17T10:32:40.384Z"
   },
   {
    "duration": 738,
    "start_time": "2025-09-17T10:32:41.486Z"
   },
   {
    "duration": 311,
    "start_time": "2025-09-17T10:33:24.609Z"
   },
   {
    "duration": 372,
    "start_time": "2025-09-17T10:33:46.726Z"
   },
   {
    "duration": 55,
    "start_time": "2025-09-17T10:34:34.923Z"
   },
   {
    "duration": 223,
    "start_time": "2025-09-17T10:34:36.884Z"
   },
   {
    "duration": 631,
    "start_time": "2025-09-17T10:34:45.596Z"
   },
   {
    "duration": 249,
    "start_time": "2025-09-17T10:35:24.794Z"
   },
   {
    "duration": 11,
    "start_time": "2025-09-17T10:37:03.011Z"
   },
   {
    "duration": 247,
    "start_time": "2025-09-17T10:37:03.488Z"
   },
   {
    "duration": 948,
    "start_time": "2025-09-17T10:44:13.419Z"
   },
   {
    "duration": 158,
    "start_time": "2025-09-17T10:44:29.418Z"
   },
   {
    "duration": 13,
    "start_time": "2025-09-17T10:46:01.944Z"
   },
   {
    "duration": 848,
    "start_time": "2025-09-17T10:46:40.338Z"
   },
   {
    "duration": 9,
    "start_time": "2025-09-17T10:46:55.497Z"
   },
   {
    "duration": 13,
    "start_time": "2025-09-17T10:47:04.383Z"
   },
   {
    "duration": 8,
    "start_time": "2025-09-17T10:47:08.922Z"
   },
   {
    "duration": 5,
    "start_time": "2025-09-17T10:47:43.767Z"
   },
   {
    "duration": 7,
    "start_time": "2025-09-17T10:49:29.595Z"
   },
   {
    "duration": 235,
    "start_time": "2025-09-17T10:49:30.773Z"
   },
   {
    "duration": 2478,
    "start_time": "2025-09-17T10:52:55.979Z"
   },
   {
    "duration": 244,
    "start_time": "2025-09-17T10:54:35.795Z"
   },
   {
    "duration": 254,
    "start_time": "2025-09-17T10:54:47.544Z"
   },
   {
    "duration": 12,
    "start_time": "2025-09-17T10:55:36.400Z"
   },
   {
    "duration": 235,
    "start_time": "2025-09-17T10:56:10.672Z"
   },
   {
    "duration": 9,
    "start_time": "2025-09-17T10:56:29.958Z"
   },
   {
    "duration": 5,
    "start_time": "2025-09-17T10:57:00.181Z"
   },
   {
    "duration": 384,
    "start_time": "2025-09-17T10:59:22.738Z"
   },
   {
    "duration": 5,
    "start_time": "2025-09-17T10:59:56.215Z"
   },
   {
    "duration": 5,
    "start_time": "2025-09-17T11:03:50.731Z"
   },
   {
    "duration": 225,
    "start_time": "2025-09-17T11:03:51.253Z"
   },
   {
    "duration": 13,
    "start_time": "2025-09-17T11:05:00.614Z"
   },
   {
    "duration": 162,
    "start_time": "2025-09-17T11:05:55.633Z"
   },
   {
    "duration": 260,
    "start_time": "2025-09-17T11:07:51.420Z"
   },
   {
    "duration": 139,
    "start_time": "2025-09-17T11:10:35.489Z"
   },
   {
    "duration": 284,
    "start_time": "2025-09-17T11:13:38.074Z"
   },
   {
    "duration": 5,
    "start_time": "2025-09-17T11:15:10.233Z"
   },
   {
    "duration": 822,
    "start_time": "2025-09-17T11:15:52.894Z"
   },
   {
    "duration": 153,
    "start_time": "2025-09-17T11:16:11.260Z"
   },
   {
    "duration": 5,
    "start_time": "2025-09-17T11:17:08.962Z"
   },
   {
    "duration": 294,
    "start_time": "2025-09-17T11:17:53.288Z"
   },
   {
    "duration": 5,
    "start_time": "2025-09-17T11:18:47.037Z"
   },
   {
    "duration": 11,
    "start_time": "2025-09-17T11:19:05.493Z"
   },
   {
    "duration": 10,
    "start_time": "2025-09-17T11:19:43.691Z"
   },
   {
    "duration": 4,
    "start_time": "2025-09-17T11:21:42.039Z"
   },
   {
    "duration": 1029,
    "start_time": "2025-09-17T11:22:34.751Z"
   },
   {
    "duration": 11,
    "start_time": "2025-09-17T11:22:56.573Z"
   },
   {
    "duration": 10,
    "start_time": "2025-09-17T11:23:35.903Z"
   },
   {
    "duration": 1653,
    "start_time": "2025-09-17T11:23:35.916Z"
   },
   {
    "duration": 995,
    "start_time": "2025-09-17T11:23:37.571Z"
   },
   {
    "duration": 32,
    "start_time": "2025-09-17T11:23:38.568Z"
   },
   {
    "duration": 196,
    "start_time": "2025-09-17T11:23:38.604Z"
   },
   {
    "duration": 151,
    "start_time": "2025-09-17T11:23:38.802Z"
   },
   {
    "duration": 218,
    "start_time": "2025-09-17T11:23:38.955Z"
   },
   {
    "duration": 83,
    "start_time": "2025-09-17T11:23:39.175Z"
   },
   {
    "duration": 52,
    "start_time": "2025-09-17T11:23:39.260Z"
   },
   {
    "duration": 280,
    "start_time": "2025-09-17T11:23:39.314Z"
   },
   {
    "duration": 239,
    "start_time": "2025-09-17T11:23:39.596Z"
   },
   {
    "duration": 19,
    "start_time": "2025-09-17T11:23:39.837Z"
   },
   {
    "duration": 86,
    "start_time": "2025-09-17T11:23:39.857Z"
   },
   {
    "duration": 81,
    "start_time": "2025-09-17T11:23:39.947Z"
   },
   {
    "duration": 392,
    "start_time": "2025-09-17T11:23:40.030Z"
   },
   {
    "duration": 195,
    "start_time": "2025-09-17T11:23:40.423Z"
   },
   {
    "duration": 20,
    "start_time": "2025-09-17T11:23:40.621Z"
   },
   {
    "duration": 52,
    "start_time": "2025-09-17T11:23:40.643Z"
   },
   {
    "duration": 68,
    "start_time": "2025-09-17T11:23:40.696Z"
   },
   {
    "duration": 257,
    "start_time": "2025-09-17T11:23:40.766Z"
   },
   {
    "duration": 304,
    "start_time": "2025-09-17T11:23:41.026Z"
   },
   {
    "duration": 15,
    "start_time": "2025-09-17T11:23:41.332Z"
   },
   {
    "duration": 69,
    "start_time": "2025-09-17T11:23:41.349Z"
   },
   {
    "duration": 257,
    "start_time": "2025-09-17T11:23:41.419Z"
   },
   {
    "duration": 8,
    "start_time": "2025-09-17T11:23:41.678Z"
   },
   {
    "duration": 31,
    "start_time": "2025-09-17T11:23:41.699Z"
   },
   {
    "duration": 251,
    "start_time": "2025-09-17T11:23:41.732Z"
   },
   {
    "duration": 218,
    "start_time": "2025-09-17T11:23:41.985Z"
   },
   {
    "duration": 296,
    "start_time": "2025-09-17T11:23:42.205Z"
   },
   {
    "duration": 179,
    "start_time": "2025-09-17T11:23:42.503Z"
   },
   {
    "duration": 432,
    "start_time": "2025-09-17T11:23:42.684Z"
   },
   {
    "duration": 25,
    "start_time": "2025-09-17T11:23:43.119Z"
   },
   {
    "duration": 173,
    "start_time": "2025-09-17T11:23:43.146Z"
   },
   {
    "duration": 25,
    "start_time": "2025-09-17T11:23:43.321Z"
   },
   {
    "duration": 553,
    "start_time": "2025-09-17T11:23:43.347Z"
   },
   {
    "duration": 19,
    "start_time": "2025-09-17T11:23:43.903Z"
   },
   {
    "duration": 174,
    "start_time": "2025-09-17T11:23:43.924Z"
   },
   {
    "duration": 911613,
    "start_time": "2025-09-17T11:23:44.100Z"
   },
   {
    "duration": 26,
    "start_time": "2025-09-17T11:38:55.715Z"
   },
   {
    "duration": 6,
    "start_time": "2025-09-17T11:38:55.743Z"
   },
   {
    "duration": 13605,
    "start_time": "2025-09-17T11:38:55.801Z"
   },
   {
    "duration": 13456,
    "start_time": "2025-09-17T11:44:17.672Z"
   },
   {
    "duration": 61,
    "start_time": "2025-09-18T10:08:24.666Z"
   },
   {
    "duration": 3,
    "start_time": "2025-09-18T10:08:31.722Z"
   },
   {
    "duration": 911,
    "start_time": "2025-09-18T10:08:32.067Z"
   },
   {
    "duration": 0,
    "start_time": "2025-09-18T10:08:32.979Z"
   },
   {
    "duration": 7,
    "start_time": "2025-09-18T10:08:33.436Z"
   },
   {
    "duration": 887,
    "start_time": "2025-09-18T10:08:45.872Z"
   },
   {
    "duration": 986,
    "start_time": "2025-09-18T10:08:46.762Z"
   },
   {
    "duration": 20,
    "start_time": "2025-09-18T10:08:47.750Z"
   },
   {
    "duration": 198,
    "start_time": "2025-09-18T10:08:47.772Z"
   },
   {
    "duration": 152,
    "start_time": "2025-09-18T10:08:48.243Z"
   },
   {
    "duration": 224,
    "start_time": "2025-09-18T10:08:48.721Z"
   },
   {
    "duration": 82,
    "start_time": "2025-09-18T10:08:49.363Z"
   },
   {
    "duration": 20,
    "start_time": "2025-09-18T10:08:50.387Z"
   },
   {
    "duration": 262,
    "start_time": "2025-09-18T10:08:50.610Z"
   },
   {
    "duration": 220,
    "start_time": "2025-09-18T10:08:51.260Z"
   },
   {
    "duration": 21,
    "start_time": "2025-09-18T10:08:51.820Z"
   },
   {
    "duration": 7,
    "start_time": "2025-09-18T10:08:52.269Z"
   },
   {
    "duration": 56,
    "start_time": "2025-09-18T10:08:53.335Z"
   },
   {
    "duration": 236,
    "start_time": "2025-09-18T10:10:39.392Z"
   },
   {
    "duration": 255,
    "start_time": "2025-09-18T10:10:40.124Z"
   },
   {
    "duration": 18,
    "start_time": "2025-09-18T10:10:41.109Z"
   },
   {
    "duration": 7,
    "start_time": "2025-09-18T10:10:41.663Z"
   },
   {
    "duration": 45,
    "start_time": "2025-09-18T10:10:42.616Z"
   },
   {
    "duration": 244,
    "start_time": "2025-09-18T10:10:42.915Z"
   },
   {
    "duration": 284,
    "start_time": "2025-09-18T10:10:57.479Z"
   },
   {
    "duration": 14,
    "start_time": "2025-09-18T10:10:58.787Z"
   },
   {
    "duration": 8,
    "start_time": "2025-09-18T10:10:59.316Z"
   },
   {
    "duration": 258,
    "start_time": "2025-09-18T10:11:00.007Z"
   },
   {
    "duration": 211,
    "start_time": "2025-09-18T10:11:12.966Z"
   },
   {
    "duration": 17,
    "start_time": "2025-09-18T10:11:13.719Z"
   },
   {
    "duration": 6,
    "start_time": "2025-09-18T10:11:14.375Z"
   },
   {
    "duration": 42,
    "start_time": "2025-09-18T10:11:15.994Z"
   },
   {
    "duration": 271,
    "start_time": "2025-09-18T10:11:24.470Z"
   },
   {
    "duration": 181,
    "start_time": "2025-09-18T10:11:24.895Z"
   },
   {
    "duration": 16,
    "start_time": "2025-09-18T10:11:25.506Z"
   },
   {
    "duration": 7,
    "start_time": "2025-09-18T10:11:25.803Z"
   },
   {
    "duration": 34,
    "start_time": "2025-09-18T10:11:26.647Z"
   },
   {
    "duration": 247,
    "start_time": "2025-09-18T10:11:26.883Z"
   },
   {
    "duration": 393,
    "start_time": "2025-09-18T10:11:27.752Z"
   },
   {
    "duration": 15,
    "start_time": "2025-09-18T10:11:28.424Z"
   },
   {
    "duration": 7,
    "start_time": "2025-09-18T10:11:28.892Z"
   },
   {
    "duration": 239,
    "start_time": "2025-09-18T10:11:29.350Z"
   },
   {
    "duration": 8,
    "start_time": "2025-09-18T10:11:32.260Z"
   },
   {
    "duration": 30,
    "start_time": "2025-09-18T10:11:32.852Z"
   },
   {
    "duration": 228,
    "start_time": "2025-09-18T10:11:33.586Z"
   },
   {
    "duration": 207,
    "start_time": "2025-09-18T10:11:34.827Z"
   },
   {
    "duration": 299,
    "start_time": "2025-09-18T10:11:35.920Z"
   },
   {
    "duration": 161,
    "start_time": "2025-09-18T10:11:38.220Z"
   },
   {
    "duration": 301,
    "start_time": "2025-09-18T10:11:39.078Z"
   },
   {
    "duration": 23,
    "start_time": "2025-09-18T10:11:40.309Z"
   },
   {
    "duration": 132,
    "start_time": "2025-09-18T10:11:40.868Z"
   },
   {
    "duration": 23,
    "start_time": "2025-09-18T10:11:42.127Z"
   },
   {
    "duration": 467,
    "start_time": "2025-09-18T10:11:42.487Z"
   },
   {
    "duration": 19,
    "start_time": "2025-09-18T10:11:46.189Z"
   },
   {
    "duration": 93,
    "start_time": "2025-09-18T10:11:48.127Z"
   },
   {
    "duration": 4,
    "start_time": "2025-09-18T10:13:53.085Z"
   },
   {
    "duration": 59,
    "start_time": "2025-09-18T10:25:46.132Z"
   },
   {
    "duration": 3,
    "start_time": "2025-09-18T10:26:49.274Z"
   },
   {
    "duration": 86,
    "start_time": "2025-09-18T10:27:00.957Z"
   },
   {
    "duration": 9,
    "start_time": "2025-09-18T10:27:57.466Z"
   },
   {
    "duration": 1571,
    "start_time": "2025-09-18T10:27:57.477Z"
   },
   {
    "duration": 975,
    "start_time": "2025-09-18T10:27:59.049Z"
   },
   {
    "duration": 17,
    "start_time": "2025-09-18T10:28:00.027Z"
   },
   {
    "duration": 270,
    "start_time": "2025-09-18T10:28:00.046Z"
   },
   {
    "duration": 182,
    "start_time": "2025-09-18T10:28:00.318Z"
   },
   {
    "duration": 241,
    "start_time": "2025-09-18T10:28:00.502Z"
   },
   {
    "duration": 88,
    "start_time": "2025-09-18T10:28:00.745Z"
   },
   {
    "duration": 27,
    "start_time": "2025-09-18T10:28:00.835Z"
   },
   {
    "duration": 291,
    "start_time": "2025-09-18T10:28:00.865Z"
   },
   {
    "duration": 238,
    "start_time": "2025-09-18T10:28:01.157Z"
   },
   {
    "duration": 21,
    "start_time": "2025-09-18T10:28:01.399Z"
   },
   {
    "duration": 85,
    "start_time": "2025-09-18T10:28:01.421Z"
   },
   {
    "duration": 97,
    "start_time": "2025-09-18T10:28:01.508Z"
   },
   {
    "duration": 240,
    "start_time": "2025-09-18T10:28:01.607Z"
   },
   {
    "duration": 283,
    "start_time": "2025-09-18T10:28:01.849Z"
   },
   {
    "duration": 18,
    "start_time": "2025-09-18T10:28:02.135Z"
   },
   {
    "duration": 10,
    "start_time": "2025-09-18T10:28:02.155Z"
   },
   {
    "duration": 96,
    "start_time": "2025-09-18T10:28:02.167Z"
   },
   {
    "duration": 257,
    "start_time": "2025-09-18T10:28:02.265Z"
   },
   {
    "duration": 308,
    "start_time": "2025-09-18T10:28:02.524Z"
   },
   {
    "duration": 16,
    "start_time": "2025-09-18T10:28:02.835Z"
   },
   {
    "duration": 14,
    "start_time": "2025-09-18T10:28:02.854Z"
   },
   {
    "duration": 290,
    "start_time": "2025-09-18T10:28:02.870Z"
   },
   {
    "duration": 9,
    "start_time": "2025-09-18T10:28:03.163Z"
   },
   {
    "duration": 47,
    "start_time": "2025-09-18T10:28:03.173Z"
   },
   {
    "duration": 245,
    "start_time": "2025-09-18T10:28:03.222Z"
   },
   {
    "duration": 221,
    "start_time": "2025-09-18T10:28:03.471Z"
   },
   {
    "duration": 297,
    "start_time": "2025-09-18T10:28:03.694Z"
   },
   {
    "duration": 174,
    "start_time": "2025-09-18T10:28:03.998Z"
   },
   {
    "duration": 306,
    "start_time": "2025-09-18T10:28:04.173Z"
   },
   {
    "duration": 34,
    "start_time": "2025-09-18T10:28:04.481Z"
   },
   {
    "duration": 275,
    "start_time": "2025-09-18T10:28:04.517Z"
   },
   {
    "duration": 23,
    "start_time": "2025-09-18T10:28:04.798Z"
   },
   {
    "duration": 464,
    "start_time": "2025-09-18T10:28:04.823Z"
   },
   {
    "duration": 22,
    "start_time": "2025-09-18T10:28:05.289Z"
   },
   {
    "duration": 89,
    "start_time": "2025-09-18T10:28:05.313Z"
   },
   {
    "duration": 83904,
    "start_time": "2025-09-18T10:28:05.404Z"
   },
   {
    "duration": 133,
    "start_time": "2025-09-18T10:29:29.310Z"
   },
   {
    "duration": 0,
    "start_time": "2025-09-18T10:29:29.445Z"
   },
   {
    "duration": 0,
    "start_time": "2025-09-18T10:29:29.446Z"
   },
   {
    "duration": 80594,
    "start_time": "2025-09-18T10:37:18.919Z"
   },
   {
    "duration": 91079,
    "start_time": "2025-09-18T10:40:56.528Z"
   },
   {
    "duration": 10,
    "start_time": "2025-09-18T10:49:42.191Z"
   },
   {
    "duration": 167640,
    "start_time": "2025-09-18T10:52:45.679Z"
   },
   {
    "duration": 893839,
    "start_time": "2025-09-18T10:55:46.493Z"
   },
   {
    "duration": 9,
    "start_time": "2025-09-18T11:12:41.300Z"
   },
   {
    "duration": 8,
    "start_time": "2025-09-18T11:14:52.140Z"
   },
   {
    "duration": 5,
    "start_time": "2025-09-18T11:14:56.932Z"
   },
   {
    "duration": 11,
    "start_time": "2025-09-18T11:15:09.858Z"
   },
   {
    "duration": 8,
    "start_time": "2025-09-18T17:20:25.429Z"
   },
   {
    "duration": 3287,
    "start_time": "2025-09-18T17:20:25.439Z"
   },
   {
    "duration": 946,
    "start_time": "2025-09-18T17:20:28.728Z"
   },
   {
    "duration": 28,
    "start_time": "2025-09-18T17:20:29.675Z"
   },
   {
    "duration": 227,
    "start_time": "2025-09-18T17:20:29.705Z"
   },
   {
    "duration": 158,
    "start_time": "2025-09-18T17:20:29.934Z"
   },
   {
    "duration": 222,
    "start_time": "2025-09-18T17:20:30.099Z"
   },
   {
    "duration": 90,
    "start_time": "2025-09-18T17:20:30.323Z"
   },
   {
    "duration": 124,
    "start_time": "2025-09-18T17:20:30.415Z"
   },
   {
    "duration": 300,
    "start_time": "2025-09-18T17:20:30.541Z"
   },
   {
    "duration": 232,
    "start_time": "2025-09-18T17:20:30.843Z"
   },
   {
    "duration": 29,
    "start_time": "2025-09-18T17:20:31.077Z"
   },
   {
    "duration": 40,
    "start_time": "2025-09-18T17:20:31.108Z"
   },
   {
    "duration": 58,
    "start_time": "2025-09-18T17:20:31.153Z"
   },
   {
    "duration": 234,
    "start_time": "2025-09-18T17:20:31.213Z"
   },
   {
    "duration": 286,
    "start_time": "2025-09-18T17:20:31.450Z"
   },
   {
    "duration": 18,
    "start_time": "2025-09-18T17:20:31.738Z"
   },
   {
    "duration": 51,
    "start_time": "2025-09-18T17:20:31.758Z"
   },
   {
    "duration": 56,
    "start_time": "2025-09-18T17:20:31.811Z"
   },
   {
    "duration": 254,
    "start_time": "2025-09-18T17:20:31.869Z"
   },
   {
    "duration": 301,
    "start_time": "2025-09-18T17:20:32.124Z"
   },
   {
    "duration": 15,
    "start_time": "2025-09-18T17:20:32.427Z"
   },
   {
    "duration": 40,
    "start_time": "2025-09-18T17:20:32.444Z"
   },
   {
    "duration": 277,
    "start_time": "2025-09-18T17:20:32.486Z"
   },
   {
    "duration": 7,
    "start_time": "2025-09-18T17:20:32.765Z"
   },
   {
    "duration": 48,
    "start_time": "2025-09-18T17:20:32.773Z"
   },
   {
    "duration": 265,
    "start_time": "2025-09-18T17:20:32.823Z"
   },
   {
    "duration": 215,
    "start_time": "2025-09-18T17:20:33.090Z"
   },
   {
    "duration": 295,
    "start_time": "2025-09-18T17:20:33.307Z"
   },
   {
    "duration": 173,
    "start_time": "2025-09-18T17:20:33.603Z"
   },
   {
    "duration": 320,
    "start_time": "2025-09-18T17:20:33.778Z"
   },
   {
    "duration": 26,
    "start_time": "2025-09-18T17:20:34.100Z"
   },
   {
    "duration": 257,
    "start_time": "2025-09-18T17:20:34.127Z"
   },
   {
    "duration": 33,
    "start_time": "2025-09-18T17:20:34.386Z"
   },
   {
    "duration": 588,
    "start_time": "2025-09-18T17:20:34.421Z"
   },
   {
    "duration": 19,
    "start_time": "2025-09-18T17:20:35.010Z"
   },
   {
    "duration": 113,
    "start_time": "2025-09-18T17:20:35.031Z"
   },
   {
    "duration": 938618,
    "start_time": "2025-09-18T17:20:35.146Z"
   },
   {
    "duration": 12,
    "start_time": "2025-09-18T17:55:05.024Z"
   },
   {
    "duration": 29,
    "start_time": "2025-09-18T17:55:24.258Z"
   },
   {
    "duration": 19,
    "start_time": "2025-09-18T17:56:48.957Z"
   },
   {
    "duration": 7,
    "start_time": "2025-09-19T00:24:29.286Z"
   },
   {
    "duration": 1712,
    "start_time": "2025-09-19T00:24:29.333Z"
   },
   {
    "duration": 956,
    "start_time": "2025-09-19T00:24:31.047Z"
   },
   {
    "duration": 18,
    "start_time": "2025-09-19T00:24:32.004Z"
   },
   {
    "duration": 163,
    "start_time": "2025-09-19T00:24:32.024Z"
   },
   {
    "duration": 140,
    "start_time": "2025-09-19T00:24:32.189Z"
   },
   {
    "duration": 208,
    "start_time": "2025-09-19T00:24:32.331Z"
   },
   {
    "duration": 81,
    "start_time": "2025-09-19T00:24:32.540Z"
   },
   {
    "duration": 17,
    "start_time": "2025-09-19T00:24:32.623Z"
   },
   {
    "duration": 274,
    "start_time": "2025-09-19T00:24:32.642Z"
   },
   {
    "duration": 225,
    "start_time": "2025-09-19T00:24:32.919Z"
   },
   {
    "duration": 17,
    "start_time": "2025-09-19T00:24:33.145Z"
   },
   {
    "duration": 27,
    "start_time": "2025-09-19T00:24:33.163Z"
   },
   {
    "duration": 52,
    "start_time": "2025-09-19T00:24:33.192Z"
   },
   {
    "duration": 244,
    "start_time": "2025-09-19T00:24:33.246Z"
   },
   {
    "duration": 285,
    "start_time": "2025-09-19T00:24:33.491Z"
   },
   {
    "duration": 17,
    "start_time": "2025-09-19T00:24:33.787Z"
   },
   {
    "duration": 8,
    "start_time": "2025-09-19T00:24:33.806Z"
   },
   {
    "duration": 47,
    "start_time": "2025-09-19T00:24:33.816Z"
   },
   {
    "duration": 295,
    "start_time": "2025-09-19T00:24:33.865Z"
   },
   {
    "duration": 296,
    "start_time": "2025-09-19T00:24:34.162Z"
   },
   {
    "duration": 29,
    "start_time": "2025-09-19T00:24:34.460Z"
   },
   {
    "duration": 8,
    "start_time": "2025-09-19T00:24:34.492Z"
   },
   {
    "duration": 262,
    "start_time": "2025-09-19T00:24:34.502Z"
   },
   {
    "duration": 21,
    "start_time": "2025-09-19T00:24:34.767Z"
   },
   {
    "duration": 31,
    "start_time": "2025-09-19T00:24:34.790Z"
   },
   {
    "duration": 237,
    "start_time": "2025-09-19T00:24:34.823Z"
   },
   {
    "duration": 203,
    "start_time": "2025-09-19T00:24:35.061Z"
   },
   {
    "duration": 284,
    "start_time": "2025-09-19T00:24:35.266Z"
   },
   {
    "duration": 171,
    "start_time": "2025-09-19T00:24:35.553Z"
   },
   {
    "duration": 313,
    "start_time": "2025-09-19T00:24:35.726Z"
   },
   {
    "duration": 24,
    "start_time": "2025-09-19T00:24:36.041Z"
   },
   {
    "duration": 257,
    "start_time": "2025-09-19T00:24:36.066Z"
   },
   {
    "duration": 25,
    "start_time": "2025-09-19T00:24:36.326Z"
   },
   {
    "duration": 451,
    "start_time": "2025-09-19T00:24:36.353Z"
   },
   {
    "duration": 28,
    "start_time": "2025-09-19T00:24:36.805Z"
   },
   {
    "duration": 117,
    "start_time": "2025-09-19T00:24:36.835Z"
   },
   {
    "duration": 8,
    "start_time": "2025-09-19T08:56:21.039Z"
   },
   {
    "duration": 1680,
    "start_time": "2025-09-19T08:56:21.059Z"
   },
   {
    "duration": 928,
    "start_time": "2025-09-19T08:56:22.741Z"
   },
   {
    "duration": 29,
    "start_time": "2025-09-19T08:56:23.671Z"
   },
   {
    "duration": 164,
    "start_time": "2025-09-19T08:56:23.702Z"
   },
   {
    "duration": 165,
    "start_time": "2025-09-19T08:56:23.867Z"
   },
   {
    "duration": 231,
    "start_time": "2025-09-19T08:56:24.034Z"
   },
   {
    "duration": 91,
    "start_time": "2025-09-19T08:56:24.267Z"
   },
   {
    "duration": 18,
    "start_time": "2025-09-19T08:56:24.360Z"
   },
   {
    "duration": 285,
    "start_time": "2025-09-19T08:56:24.380Z"
   },
   {
    "duration": 270,
    "start_time": "2025-09-19T08:56:24.668Z"
   },
   {
    "duration": 20,
    "start_time": "2025-09-19T08:56:24.940Z"
   },
   {
    "duration": 7,
    "start_time": "2025-09-19T08:56:24.962Z"
   },
   {
    "duration": 74,
    "start_time": "2025-09-19T08:56:24.970Z"
   },
   {
    "duration": 240,
    "start_time": "2025-09-19T08:56:25.046Z"
   },
   {
    "duration": 277,
    "start_time": "2025-09-19T08:56:25.288Z"
   },
   {
    "duration": 17,
    "start_time": "2025-09-19T08:56:25.567Z"
   },
   {
    "duration": 18,
    "start_time": "2025-09-19T08:56:25.586Z"
   },
   {
    "duration": 44,
    "start_time": "2025-09-19T08:56:25.606Z"
   },
   {
    "duration": 279,
    "start_time": "2025-09-19T08:56:25.652Z"
   },
   {
    "duration": 302,
    "start_time": "2025-09-19T08:56:25.933Z"
   },
   {
    "duration": 13,
    "start_time": "2025-09-19T08:56:26.237Z"
   },
   {
    "duration": 17,
    "start_time": "2025-09-19T08:56:26.252Z"
   },
   {
    "duration": 271,
    "start_time": "2025-09-19T08:56:26.271Z"
   },
   {
    "duration": 8,
    "start_time": "2025-09-19T08:56:26.543Z"
   },
   {
    "duration": 45,
    "start_time": "2025-09-19T08:56:26.554Z"
   },
   {
    "duration": 232,
    "start_time": "2025-09-19T08:56:26.672Z"
   },
   {
    "duration": 203,
    "start_time": "2025-09-19T08:56:27.268Z"
   },
   {
    "duration": 290,
    "start_time": "2025-09-19T08:56:27.789Z"
   },
   {
    "duration": 168,
    "start_time": "2025-09-19T08:56:28.261Z"
   },
   {
    "duration": 302,
    "start_time": "2025-09-19T08:56:28.730Z"
   },
   {
    "duration": 23,
    "start_time": "2025-09-19T08:56:29.450Z"
   },
   {
    "duration": 236,
    "start_time": "2025-09-19T08:56:29.890Z"
   },
   {
    "duration": 22,
    "start_time": "2025-09-19T08:56:30.616Z"
   },
   {
    "duration": 461,
    "start_time": "2025-09-19T08:56:30.947Z"
   },
   {
    "duration": 19,
    "start_time": "2025-09-19T08:56:31.569Z"
   },
   {
    "duration": 70,
    "start_time": "2025-09-19T08:56:33.177Z"
   },
   {
    "duration": 982153,
    "start_time": "2025-09-19T08:57:04.781Z"
   },
   {
    "duration": 84608,
    "start_time": "2025-09-19T09:26:30.399Z"
   },
   {
    "duration": 8,
    "start_time": "2025-09-19T09:27:55.009Z"
   },
   {
    "duration": 22,
    "start_time": "2025-09-19T09:33:15.296Z"
   },
   {
    "duration": 134,
    "start_time": "2025-09-19T09:35:16.850Z"
   },
   {
    "duration": 27,
    "start_time": "2025-09-19T09:35:44.210Z"
   },
   {
    "duration": 33,
    "start_time": "2025-09-19T09:38:54.206Z"
   },
   {
    "duration": 12,
    "start_time": "2025-09-19T09:48:31.829Z"
   },
   {
    "duration": 1761,
    "start_time": "2025-09-19T09:48:31.843Z"
   },
   {
    "duration": 1109,
    "start_time": "2025-09-19T09:48:33.606Z"
   },
   {
    "duration": 23,
    "start_time": "2025-09-19T09:48:34.717Z"
   },
   {
    "duration": 330,
    "start_time": "2025-09-19T09:48:34.744Z"
   },
   {
    "duration": 178,
    "start_time": "2025-09-19T09:48:35.076Z"
   },
   {
    "duration": 216,
    "start_time": "2025-09-19T09:48:35.256Z"
   },
   {
    "duration": 82,
    "start_time": "2025-09-19T09:48:35.474Z"
   },
   {
    "duration": 71,
    "start_time": "2025-09-19T09:48:35.557Z"
   },
   {
    "duration": 301,
    "start_time": "2025-09-19T09:48:35.630Z"
   },
   {
    "duration": 260,
    "start_time": "2025-09-19T09:48:35.933Z"
   },
   {
    "duration": 23,
    "start_time": "2025-09-19T09:48:36.198Z"
   },
   {
    "duration": 21,
    "start_time": "2025-09-19T09:48:36.223Z"
   },
   {
    "duration": 77,
    "start_time": "2025-09-19T09:48:36.248Z"
   },
   {
    "duration": 253,
    "start_time": "2025-09-19T09:48:36.327Z"
   },
   {
    "duration": 303,
    "start_time": "2025-09-19T09:48:36.582Z"
   },
   {
    "duration": 81,
    "start_time": "2025-09-19T09:48:36.887Z"
   },
   {
    "duration": 17,
    "start_time": "2025-09-19T09:48:36.969Z"
   },
   {
    "duration": 68,
    "start_time": "2025-09-19T09:48:36.988Z"
   },
   {
    "duration": 275,
    "start_time": "2025-09-19T09:48:37.058Z"
   },
   {
    "duration": 305,
    "start_time": "2025-09-19T09:48:37.335Z"
   },
   {
    "duration": 15,
    "start_time": "2025-09-19T09:48:37.642Z"
   },
   {
    "duration": 12,
    "start_time": "2025-09-19T09:48:37.659Z"
   },
   {
    "duration": 308,
    "start_time": "2025-09-19T09:48:37.673Z"
   },
   {
    "duration": 15,
    "start_time": "2025-09-19T09:48:37.984Z"
   },
   {
    "duration": 139,
    "start_time": "2025-09-19T09:48:38.002Z"
   },
   {
    "duration": 274,
    "start_time": "2025-09-19T09:48:38.143Z"
   },
   {
    "duration": 243,
    "start_time": "2025-09-19T09:48:38.419Z"
   },
   {
    "duration": 313,
    "start_time": "2025-09-19T09:48:38.663Z"
   },
   {
    "duration": 195,
    "start_time": "2025-09-19T09:48:38.978Z"
   },
   {
    "duration": 334,
    "start_time": "2025-09-19T09:48:39.174Z"
   },
   {
    "duration": 24,
    "start_time": "2025-09-19T09:48:39.510Z"
   },
   {
    "duration": 263,
    "start_time": "2025-09-19T09:48:39.536Z"
   },
   {
    "duration": 24,
    "start_time": "2025-09-19T09:48:39.801Z"
   },
   {
    "duration": 502,
    "start_time": "2025-09-19T09:48:39.828Z"
   },
   {
    "duration": 21,
    "start_time": "2025-09-19T09:48:40.332Z"
   },
   {
    "duration": 160,
    "start_time": "2025-09-19T09:48:40.354Z"
   },
   {
    "duration": 8,
    "start_time": "2025-09-19T10:17:26.265Z"
   },
   {
    "duration": 1681,
    "start_time": "2025-09-19T10:17:26.275Z"
   },
   {
    "duration": 1083,
    "start_time": "2025-09-19T10:17:27.958Z"
   },
   {
    "duration": 18,
    "start_time": "2025-09-19T10:17:29.043Z"
   },
   {
    "duration": 303,
    "start_time": "2025-09-19T10:17:29.063Z"
   },
   {
    "duration": 189,
    "start_time": "2025-09-19T10:17:29.368Z"
   },
   {
    "duration": 269,
    "start_time": "2025-09-19T10:17:29.559Z"
   },
   {
    "duration": 101,
    "start_time": "2025-09-19T10:17:29.831Z"
   },
   {
    "duration": 20,
    "start_time": "2025-09-19T10:17:29.934Z"
   },
   {
    "duration": 310,
    "start_time": "2025-09-19T10:17:29.955Z"
   },
   {
    "duration": 275,
    "start_time": "2025-09-19T10:17:30.267Z"
   },
   {
    "duration": 21,
    "start_time": "2025-09-19T10:17:30.544Z"
   },
   {
    "duration": 24,
    "start_time": "2025-09-19T10:17:30.567Z"
   },
   {
    "duration": 57,
    "start_time": "2025-09-19T10:17:30.600Z"
   },
   {
    "duration": 292,
    "start_time": "2025-09-19T10:17:30.658Z"
   },
   {
    "duration": 310,
    "start_time": "2025-09-19T10:17:30.951Z"
   },
   {
    "duration": 19,
    "start_time": "2025-09-19T10:17:31.262Z"
   },
   {
    "duration": 22,
    "start_time": "2025-09-19T10:17:31.298Z"
   },
   {
    "duration": 132,
    "start_time": "2025-09-19T10:17:31.322Z"
   },
   {
    "duration": 310,
    "start_time": "2025-09-19T10:17:31.455Z"
   },
   {
    "duration": 342,
    "start_time": "2025-09-19T10:17:31.767Z"
   },
   {
    "duration": 21,
    "start_time": "2025-09-19T10:17:32.111Z"
   },
   {
    "duration": 42,
    "start_time": "2025-09-19T10:17:32.135Z"
   },
   {
    "duration": 377,
    "start_time": "2025-09-19T10:17:32.178Z"
   },
   {
    "duration": 8,
    "start_time": "2025-09-19T10:17:32.556Z"
   },
   {
    "duration": 55,
    "start_time": "2025-09-19T10:17:32.566Z"
   },
   {
    "duration": 267,
    "start_time": "2025-09-19T10:17:32.623Z"
   },
   {
    "duration": 260,
    "start_time": "2025-09-19T10:17:32.892Z"
   },
   {
    "duration": 332,
    "start_time": "2025-09-19T10:17:33.154Z"
   },
   {
    "duration": 203,
    "start_time": "2025-09-19T10:17:33.488Z"
   },
   {
    "duration": 379,
    "start_time": "2025-09-19T10:17:33.693Z"
   },
   {
    "duration": 38,
    "start_time": "2025-09-19T10:17:34.073Z"
   },
   {
    "duration": 268,
    "start_time": "2025-09-19T10:17:34.117Z"
   },
   {
    "duration": 33,
    "start_time": "2025-09-19T10:17:34.387Z"
   },
   {
    "duration": 630,
    "start_time": "2025-09-19T10:17:34.422Z"
   },
   {
    "duration": 19,
    "start_time": "2025-09-19T10:17:35.053Z"
   },
   {
    "duration": 197,
    "start_time": "2025-09-19T10:17:35.074Z"
   },
   {
    "duration": 8,
    "start_time": "2025-09-19T13:53:35.508Z"
   },
   {
    "duration": 1872,
    "start_time": "2025-09-19T13:53:35.518Z"
   },
   {
    "duration": 1005,
    "start_time": "2025-09-19T13:53:37.392Z"
   },
   {
    "duration": 20,
    "start_time": "2025-09-19T13:53:38.399Z"
   },
   {
    "duration": 188,
    "start_time": "2025-09-19T13:53:38.420Z"
   },
   {
    "duration": 186,
    "start_time": "2025-09-19T13:53:38.610Z"
   },
   {
    "duration": 233,
    "start_time": "2025-09-19T13:53:38.798Z"
   },
   {
    "duration": 87,
    "start_time": "2025-09-19T13:53:39.033Z"
   },
   {
    "duration": 35,
    "start_time": "2025-09-19T13:53:39.122Z"
   },
   {
    "duration": 276,
    "start_time": "2025-09-19T13:53:39.160Z"
   },
   {
    "duration": 247,
    "start_time": "2025-09-19T13:53:39.438Z"
   },
   {
    "duration": 20,
    "start_time": "2025-09-19T13:53:39.687Z"
   },
   {
    "duration": 7,
    "start_time": "2025-09-19T13:53:39.709Z"
   },
   {
    "duration": 87,
    "start_time": "2025-09-19T13:53:39.719Z"
   },
   {
    "duration": 325,
    "start_time": "2025-09-19T13:53:39.808Z"
   },
   {
    "duration": 194,
    "start_time": "2025-09-19T13:53:40.139Z"
   },
   {
    "duration": 26,
    "start_time": "2025-09-19T13:53:40.335Z"
   },
   {
    "duration": 9,
    "start_time": "2025-09-19T13:53:40.363Z"
   },
   {
    "duration": 72,
    "start_time": "2025-09-19T13:53:40.374Z"
   },
   {
    "duration": 259,
    "start_time": "2025-09-19T13:53:40.455Z"
   },
   {
    "duration": 343,
    "start_time": "2025-09-19T13:53:40.716Z"
   },
   {
    "duration": 19,
    "start_time": "2025-09-19T13:53:41.062Z"
   },
   {
    "duration": 31,
    "start_time": "2025-09-19T13:53:41.083Z"
   },
   {
    "duration": 275,
    "start_time": "2025-09-19T13:53:41.117Z"
   },
   {
    "duration": 9,
    "start_time": "2025-09-19T13:53:41.394Z"
   },
   {
    "duration": 53,
    "start_time": "2025-09-19T13:53:41.405Z"
   },
   {
    "duration": 236,
    "start_time": "2025-09-19T13:53:41.459Z"
   },
   {
    "duration": 212,
    "start_time": "2025-09-19T13:53:41.700Z"
   },
   {
    "duration": 299,
    "start_time": "2025-09-19T13:53:41.914Z"
   },
   {
    "duration": 200,
    "start_time": "2025-09-19T13:53:42.215Z"
   },
   {
    "duration": 440,
    "start_time": "2025-09-19T13:53:42.417Z"
   },
   {
    "duration": 24,
    "start_time": "2025-09-19T13:53:42.859Z"
   },
   {
    "duration": 138,
    "start_time": "2025-09-19T13:53:42.885Z"
   },
   {
    "duration": 30,
    "start_time": "2025-09-19T13:53:43.025Z"
   },
   {
    "duration": 586,
    "start_time": "2025-09-19T13:53:43.057Z"
   },
   {
    "duration": 19,
    "start_time": "2025-09-19T13:53:43.651Z"
   },
   {
    "duration": 87,
    "start_time": "2025-09-19T13:53:43.672Z"
   },
   {
    "duration": 9,
    "start_time": "2025-09-19T14:01:30.032Z"
   },
   {
    "duration": 1554,
    "start_time": "2025-09-19T14:01:30.043Z"
   },
   {
    "duration": 978,
    "start_time": "2025-09-19T14:01:31.598Z"
   },
   {
    "duration": 16,
    "start_time": "2025-09-19T14:01:32.577Z"
   },
   {
    "duration": 189,
    "start_time": "2025-09-19T14:01:32.595Z"
   },
   {
    "duration": 163,
    "start_time": "2025-09-19T14:01:32.786Z"
   },
   {
    "duration": 227,
    "start_time": "2025-09-19T14:01:32.951Z"
   },
   {
    "duration": 94,
    "start_time": "2025-09-19T14:01:33.180Z"
   },
   {
    "duration": 46,
    "start_time": "2025-09-19T14:01:33.276Z"
   },
   {
    "duration": 288,
    "start_time": "2025-09-19T14:01:33.324Z"
   },
   {
    "duration": 286,
    "start_time": "2025-09-19T14:01:33.614Z"
   },
   {
    "duration": 18,
    "start_time": "2025-09-19T14:01:33.902Z"
   },
   {
    "duration": 37,
    "start_time": "2025-09-19T14:01:33.922Z"
   },
   {
    "duration": 64,
    "start_time": "2025-09-19T14:01:33.963Z"
   },
   {
    "duration": 230,
    "start_time": "2025-09-19T14:01:34.029Z"
   },
   {
    "duration": 272,
    "start_time": "2025-09-19T14:01:34.261Z"
   },
   {
    "duration": 27,
    "start_time": "2025-09-19T14:01:34.534Z"
   },
   {
    "duration": 7,
    "start_time": "2025-09-19T14:01:34.562Z"
   },
   {
    "duration": 66,
    "start_time": "2025-09-19T14:01:34.571Z"
   },
   {
    "duration": 245,
    "start_time": "2025-09-19T14:01:34.645Z"
   },
   {
    "duration": 290,
    "start_time": "2025-09-19T14:01:34.891Z"
   },
   {
    "duration": 14,
    "start_time": "2025-09-19T14:01:35.183Z"
   },
   {
    "duration": 22,
    "start_time": "2025-09-19T14:01:35.199Z"
   },
   {
    "duration": 255,
    "start_time": "2025-09-19T14:01:35.223Z"
   },
   {
    "duration": 7,
    "start_time": "2025-09-19T14:01:35.480Z"
   },
   {
    "duration": 77,
    "start_time": "2025-09-19T14:01:35.489Z"
   },
   {
    "duration": 227,
    "start_time": "2025-09-19T14:01:35.568Z"
   },
   {
    "duration": 203,
    "start_time": "2025-09-19T14:01:35.797Z"
   },
   {
    "duration": 286,
    "start_time": "2025-09-19T14:01:36.003Z"
   },
   {
    "duration": 168,
    "start_time": "2025-09-19T14:01:36.290Z"
   },
   {
    "duration": 309,
    "start_time": "2025-09-19T14:01:36.460Z"
   },
   {
    "duration": 24,
    "start_time": "2025-09-19T14:01:36.771Z"
   },
   {
    "duration": 256,
    "start_time": "2025-09-19T14:01:36.797Z"
   },
   {
    "duration": 23,
    "start_time": "2025-09-19T14:01:37.058Z"
   },
   {
    "duration": 546,
    "start_time": "2025-09-19T14:01:37.083Z"
   },
   {
    "duration": 30,
    "start_time": "2025-09-19T14:01:37.639Z"
   },
   {
    "duration": 90,
    "start_time": "2025-09-19T14:01:37.671Z"
   },
   {
    "duration": 8,
    "start_time": "2025-09-19T14:04:50.201Z"
   },
   {
    "duration": 1601,
    "start_time": "2025-09-19T14:04:50.210Z"
   },
   {
    "duration": 974,
    "start_time": "2025-09-19T14:04:51.813Z"
   },
   {
    "duration": 20,
    "start_time": "2025-09-19T14:04:52.789Z"
   },
   {
    "duration": 220,
    "start_time": "2025-09-19T14:04:52.812Z"
   },
   {
    "duration": 153,
    "start_time": "2025-09-19T14:04:53.034Z"
   },
   {
    "duration": 271,
    "start_time": "2025-09-19T14:04:53.189Z"
   },
   {
    "duration": 105,
    "start_time": "2025-09-19T14:04:53.462Z"
   },
   {
    "duration": 24,
    "start_time": "2025-09-19T14:04:53.570Z"
   },
   {
    "duration": 288,
    "start_time": "2025-09-19T14:04:53.596Z"
   },
   {
    "duration": 237,
    "start_time": "2025-09-19T14:04:53.886Z"
   },
   {
    "duration": 29,
    "start_time": "2025-09-19T14:04:54.124Z"
   },
   {
    "duration": 9,
    "start_time": "2025-09-19T14:04:54.157Z"
   },
   {
    "duration": 76,
    "start_time": "2025-09-19T14:04:54.168Z"
   },
   {
    "duration": 243,
    "start_time": "2025-09-19T14:04:54.255Z"
   },
   {
    "duration": 299,
    "start_time": "2025-09-19T14:04:54.499Z"
   },
   {
    "duration": 17,
    "start_time": "2025-09-19T14:04:54.800Z"
   },
   {
    "duration": 28,
    "start_time": "2025-09-19T14:04:54.818Z"
   },
   {
    "duration": 49,
    "start_time": "2025-09-19T14:04:54.851Z"
   },
   {
    "duration": 254,
    "start_time": "2025-09-19T14:04:54.901Z"
   },
   {
    "duration": 297,
    "start_time": "2025-09-19T14:04:55.157Z"
   },
   {
    "duration": 16,
    "start_time": "2025-09-19T14:04:55.456Z"
   },
   {
    "duration": 14,
    "start_time": "2025-09-19T14:04:55.474Z"
   },
   {
    "duration": 288,
    "start_time": "2025-09-19T14:04:55.489Z"
   },
   {
    "duration": 7,
    "start_time": "2025-09-19T14:04:55.779Z"
   },
   {
    "duration": 35,
    "start_time": "2025-09-19T14:04:55.788Z"
   },
   {
    "duration": 259,
    "start_time": "2025-09-19T14:04:55.825Z"
   },
   {
    "duration": 209,
    "start_time": "2025-09-19T14:04:56.086Z"
   },
   {
    "duration": 294,
    "start_time": "2025-09-19T14:04:56.297Z"
   },
   {
    "duration": 179,
    "start_time": "2025-09-19T14:04:56.593Z"
   },
   {
    "duration": 320,
    "start_time": "2025-09-19T14:04:56.773Z"
   },
   {
    "duration": 27,
    "start_time": "2025-09-19T14:04:57.094Z"
   },
   {
    "duration": 258,
    "start_time": "2025-09-19T14:04:57.123Z"
   },
   {
    "duration": 24,
    "start_time": "2025-09-19T14:04:57.383Z"
   },
   {
    "duration": 539,
    "start_time": "2025-09-19T14:04:57.409Z"
   },
   {
    "duration": 21,
    "start_time": "2025-09-19T14:04:57.955Z"
   },
   {
    "duration": 83,
    "start_time": "2025-09-19T14:04:57.980Z"
   },
   {
    "duration": 711003,
    "start_time": "2025-09-19T14:04:58.065Z"
   },
   {
    "duration": 0,
    "start_time": "2025-09-19T14:16:49.069Z"
   },
   {
    "duration": 0,
    "start_time": "2025-09-19T14:16:49.071Z"
   },
   {
    "duration": 4,
    "start_time": "2025-09-19T14:18:12.979Z"
   },
   {
    "duration": 10,
    "start_time": "2025-09-19T14:20:21.095Z"
   },
   {
    "duration": 1600,
    "start_time": "2025-09-19T14:20:21.107Z"
   },
   {
    "duration": 1038,
    "start_time": "2025-09-19T14:20:22.708Z"
   },
   {
    "duration": 22,
    "start_time": "2025-09-19T14:20:23.747Z"
   },
   {
    "duration": 149,
    "start_time": "2025-09-19T14:20:23.772Z"
   },
   {
    "duration": 189,
    "start_time": "2025-09-19T14:20:23.923Z"
   },
   {
    "duration": 285,
    "start_time": "2025-09-19T14:20:24.114Z"
   },
   {
    "duration": 100,
    "start_time": "2025-09-19T14:20:24.400Z"
   },
   {
    "duration": 19,
    "start_time": "2025-09-19T14:20:24.501Z"
   },
   {
    "duration": 316,
    "start_time": "2025-09-19T14:20:24.522Z"
   },
   {
    "duration": 270,
    "start_time": "2025-09-19T14:20:24.847Z"
   },
   {
    "duration": 36,
    "start_time": "2025-09-19T14:20:25.120Z"
   },
   {
    "duration": 10,
    "start_time": "2025-09-19T14:20:25.158Z"
   },
   {
    "duration": 89,
    "start_time": "2025-09-19T14:20:25.173Z"
   },
   {
    "duration": 264,
    "start_time": "2025-09-19T14:20:25.264Z"
   },
   {
    "duration": 307,
    "start_time": "2025-09-19T14:20:25.530Z"
   },
   {
    "duration": 26,
    "start_time": "2025-09-19T14:20:25.839Z"
   },
   {
    "duration": 12,
    "start_time": "2025-09-19T14:20:25.867Z"
   },
   {
    "duration": 79,
    "start_time": "2025-09-19T14:20:25.881Z"
   },
   {
    "duration": 278,
    "start_time": "2025-09-19T14:20:25.964Z"
   },
   {
    "duration": 310,
    "start_time": "2025-09-19T14:20:26.249Z"
   },
   {
    "duration": 19,
    "start_time": "2025-09-19T14:20:26.561Z"
   },
   {
    "duration": 22,
    "start_time": "2025-09-19T14:20:26.582Z"
   },
   {
    "duration": 285,
    "start_time": "2025-09-19T14:20:26.605Z"
   },
   {
    "duration": 8,
    "start_time": "2025-09-19T14:20:26.891Z"
   },
   {
    "duration": 58,
    "start_time": "2025-09-19T14:20:26.900Z"
   },
   {
    "duration": 247,
    "start_time": "2025-09-19T14:20:26.960Z"
   },
   {
    "duration": 222,
    "start_time": "2025-09-19T14:20:27.208Z"
   },
   {
    "duration": 345,
    "start_time": "2025-09-19T14:20:27.431Z"
   },
   {
    "duration": 180,
    "start_time": "2025-09-19T14:20:27.778Z"
   },
   {
    "duration": 327,
    "start_time": "2025-09-19T14:20:27.960Z"
   },
   {
    "duration": 24,
    "start_time": "2025-09-19T14:20:28.289Z"
   },
   {
    "duration": 260,
    "start_time": "2025-09-19T14:20:28.315Z"
   },
   {
    "duration": 24,
    "start_time": "2025-09-19T14:20:28.577Z"
   },
   {
    "duration": 517,
    "start_time": "2025-09-19T14:20:28.603Z"
   },
   {
    "duration": 37,
    "start_time": "2025-09-19T14:20:29.122Z"
   },
   {
    "duration": 86,
    "start_time": "2025-09-19T14:20:29.161Z"
   },
   {
    "duration": 6,
    "start_time": "2025-09-19T14:20:29.249Z"
   },
   {
    "duration": 104514,
    "start_time": "2025-09-19T14:20:29.257Z"
   },
   {
    "duration": 0,
    "start_time": "2025-09-19T14:22:13.772Z"
   },
   {
    "duration": 0,
    "start_time": "2025-09-19T14:22:13.773Z"
   },
   {
    "duration": 8,
    "start_time": "2025-09-19T14:23:36.704Z"
   },
   {
    "duration": 1501,
    "start_time": "2025-09-19T14:23:36.714Z"
   },
   {
    "duration": 982,
    "start_time": "2025-09-19T14:23:38.217Z"
   },
   {
    "duration": 17,
    "start_time": "2025-09-19T14:23:39.201Z"
   },
   {
    "duration": 186,
    "start_time": "2025-09-19T14:23:39.220Z"
   },
   {
    "duration": 165,
    "start_time": "2025-09-19T14:23:39.408Z"
   },
   {
    "duration": 242,
    "start_time": "2025-09-19T14:23:39.575Z"
   },
   {
    "duration": 91,
    "start_time": "2025-09-19T14:23:39.819Z"
   },
   {
    "duration": 37,
    "start_time": "2025-09-19T14:23:39.913Z"
   },
   {
    "duration": 275,
    "start_time": "2025-09-19T14:23:39.952Z"
   },
   {
    "duration": 267,
    "start_time": "2025-09-19T14:23:40.229Z"
   },
   {
    "duration": 20,
    "start_time": "2025-09-19T14:23:40.498Z"
   },
   {
    "duration": 27,
    "start_time": "2025-09-19T14:23:40.520Z"
   },
   {
    "duration": 54,
    "start_time": "2025-09-19T14:23:40.555Z"
   },
   {
    "duration": 272,
    "start_time": "2025-09-19T14:23:40.610Z"
   },
   {
    "duration": 311,
    "start_time": "2025-09-19T14:23:40.884Z"
   },
   {
    "duration": 16,
    "start_time": "2025-09-19T14:23:41.197Z"
   },
   {
    "duration": 30,
    "start_time": "2025-09-19T14:23:41.215Z"
   },
   {
    "duration": 49,
    "start_time": "2025-09-19T14:23:41.251Z"
   },
   {
    "duration": 245,
    "start_time": "2025-09-19T14:23:41.301Z"
   },
   {
    "duration": 322,
    "start_time": "2025-09-19T14:23:41.553Z"
   },
   {
    "duration": 15,
    "start_time": "2025-09-19T14:23:41.877Z"
   },
   {
    "duration": 7,
    "start_time": "2025-09-19T14:23:41.894Z"
   },
   {
    "duration": 274,
    "start_time": "2025-09-19T14:23:41.905Z"
   },
   {
    "duration": 8,
    "start_time": "2025-09-19T14:23:42.180Z"
   },
   {
    "duration": 30,
    "start_time": "2025-09-19T14:23:42.189Z"
   },
   {
    "duration": 251,
    "start_time": "2025-09-19T14:23:42.221Z"
   },
   {
    "duration": 206,
    "start_time": "2025-09-19T14:23:42.474Z"
   },
   {
    "duration": 277,
    "start_time": "2025-09-19T14:23:42.682Z"
   },
   {
    "duration": 171,
    "start_time": "2025-09-19T14:23:42.961Z"
   },
   {
    "duration": 301,
    "start_time": "2025-09-19T14:23:43.134Z"
   },
   {
    "duration": 28,
    "start_time": "2025-09-19T14:23:43.439Z"
   },
   {
    "duration": 244,
    "start_time": "2025-09-19T14:23:43.469Z"
   },
   {
    "duration": 33,
    "start_time": "2025-09-19T14:23:43.715Z"
   },
   {
    "duration": 445,
    "start_time": "2025-09-19T14:23:43.750Z"
   },
   {
    "duration": 19,
    "start_time": "2025-09-19T14:23:44.197Z"
   },
   {
    "duration": 92,
    "start_time": "2025-09-19T14:23:44.218Z"
   },
   {
    "duration": 5,
    "start_time": "2025-09-19T14:23:44.312Z"
   },
   {
    "duration": 180897,
    "start_time": "2025-09-19T14:23:44.319Z"
   },
   {
    "duration": 0,
    "start_time": "2025-09-19T14:26:45.217Z"
   },
   {
    "duration": 0,
    "start_time": "2025-09-19T14:26:45.219Z"
   },
   {
    "duration": 11,
    "start_time": "2025-09-19T14:32:01.483Z"
   },
   {
    "duration": 1553,
    "start_time": "2025-09-19T14:32:01.497Z"
   },
   {
    "duration": 966,
    "start_time": "2025-09-19T14:32:03.055Z"
   },
   {
    "duration": 30,
    "start_time": "2025-09-19T14:32:04.023Z"
   },
   {
    "duration": 207,
    "start_time": "2025-09-19T14:32:04.056Z"
   },
   {
    "duration": 190,
    "start_time": "2025-09-19T14:32:04.265Z"
   },
   {
    "duration": 233,
    "start_time": "2025-09-19T14:32:04.457Z"
   },
   {
    "duration": 92,
    "start_time": "2025-09-19T14:32:04.692Z"
   },
   {
    "duration": 19,
    "start_time": "2025-09-19T14:32:04.786Z"
   },
   {
    "duration": 268,
    "start_time": "2025-09-19T14:32:04.807Z"
   },
   {
    "duration": 221,
    "start_time": "2025-09-19T14:32:05.076Z"
   },
   {
    "duration": 18,
    "start_time": "2025-09-19T14:32:05.299Z"
   },
   {
    "duration": 25,
    "start_time": "2025-09-19T14:32:05.319Z"
   },
   {
    "duration": 58,
    "start_time": "2025-09-19T14:32:05.350Z"
   },
   {
    "duration": 228,
    "start_time": "2025-09-19T14:32:05.410Z"
   },
   {
    "duration": 264,
    "start_time": "2025-09-19T14:32:05.644Z"
   },
   {
    "duration": 16,
    "start_time": "2025-09-19T14:32:05.909Z"
   },
   {
    "duration": 16,
    "start_time": "2025-09-19T14:32:05.940Z"
   },
   {
    "duration": 59,
    "start_time": "2025-09-19T14:32:05.958Z"
   },
   {
    "duration": 254,
    "start_time": "2025-09-19T14:32:06.018Z"
   },
   {
    "duration": 288,
    "start_time": "2025-09-19T14:32:06.274Z"
   },
   {
    "duration": 15,
    "start_time": "2025-09-19T14:32:06.563Z"
   },
   {
    "duration": 13,
    "start_time": "2025-09-19T14:32:06.579Z"
   },
   {
    "duration": 267,
    "start_time": "2025-09-19T14:32:06.594Z"
   },
   {
    "duration": 7,
    "start_time": "2025-09-19T14:32:06.863Z"
   },
   {
    "duration": 40,
    "start_time": "2025-09-19T14:32:06.872Z"
   },
   {
    "duration": 246,
    "start_time": "2025-09-19T14:32:06.914Z"
   },
   {
    "duration": 210,
    "start_time": "2025-09-19T14:32:07.161Z"
   },
   {
    "duration": 321,
    "start_time": "2025-09-19T14:32:07.372Z"
   },
   {
    "duration": 169,
    "start_time": "2025-09-19T14:32:07.695Z"
   },
   {
    "duration": 319,
    "start_time": "2025-09-19T14:32:07.866Z"
   },
   {
    "duration": 24,
    "start_time": "2025-09-19T14:32:08.187Z"
   },
   {
    "duration": 257,
    "start_time": "2025-09-19T14:32:08.213Z"
   },
   {
    "duration": 23,
    "start_time": "2025-09-19T14:32:08.472Z"
   },
   {
    "duration": 507,
    "start_time": "2025-09-19T14:32:08.497Z"
   },
   {
    "duration": 37,
    "start_time": "2025-09-19T14:32:09.007Z"
   },
   {
    "duration": 81,
    "start_time": "2025-09-19T14:32:09.052Z"
   },
   {
    "duration": 12,
    "start_time": "2025-09-19T14:32:09.135Z"
   },
   {
    "duration": 12,
    "start_time": "2025-09-19T14:35:27.396Z"
   },
   {
    "duration": 1524,
    "start_time": "2025-09-19T14:35:27.411Z"
   },
   {
    "duration": 934,
    "start_time": "2025-09-19T14:35:28.937Z"
   },
   {
    "duration": 18,
    "start_time": "2025-09-19T14:35:29.874Z"
   },
   {
    "duration": 181,
    "start_time": "2025-09-19T14:35:29.893Z"
   },
   {
    "duration": 148,
    "start_time": "2025-09-19T14:35:30.075Z"
   },
   {
    "duration": 249,
    "start_time": "2025-09-19T14:35:30.225Z"
   },
   {
    "duration": 94,
    "start_time": "2025-09-19T14:35:30.476Z"
   },
   {
    "duration": 18,
    "start_time": "2025-09-19T14:35:30.572Z"
   },
   {
    "duration": 274,
    "start_time": "2025-09-19T14:35:30.593Z"
   },
   {
    "duration": 254,
    "start_time": "2025-09-19T14:35:30.869Z"
   },
   {
    "duration": 29,
    "start_time": "2025-09-19T14:35:31.125Z"
   },
   {
    "duration": 12,
    "start_time": "2025-09-19T14:35:31.155Z"
   },
   {
    "duration": 80,
    "start_time": "2025-09-19T14:35:31.169Z"
   },
   {
    "duration": 244,
    "start_time": "2025-09-19T14:35:31.251Z"
   },
   {
    "duration": 283,
    "start_time": "2025-09-19T14:35:31.497Z"
   },
   {
    "duration": 16,
    "start_time": "2025-09-19T14:35:31.781Z"
   },
   {
    "duration": 16,
    "start_time": "2025-09-19T14:35:31.799Z"
   },
   {
    "duration": 69,
    "start_time": "2025-09-19T14:35:31.816Z"
   },
   {
    "duration": 271,
    "start_time": "2025-09-19T14:35:31.886Z"
   },
   {
    "duration": 284,
    "start_time": "2025-09-19T14:35:32.159Z"
   },
   {
    "duration": 15,
    "start_time": "2025-09-19T14:35:32.447Z"
   },
   {
    "duration": 23,
    "start_time": "2025-09-19T14:35:32.464Z"
   },
   {
    "duration": 257,
    "start_time": "2025-09-19T14:35:32.488Z"
   },
   {
    "duration": 10,
    "start_time": "2025-09-19T14:35:32.748Z"
   },
   {
    "duration": 63,
    "start_time": "2025-09-19T14:35:32.759Z"
   },
   {
    "duration": 232,
    "start_time": "2025-09-19T14:35:32.824Z"
   },
   {
    "duration": 205,
    "start_time": "2025-09-19T14:35:33.060Z"
   },
   {
    "duration": 299,
    "start_time": "2025-09-19T14:35:33.267Z"
   },
   {
    "duration": 182,
    "start_time": "2025-09-19T14:35:33.568Z"
   },
   {
    "duration": 303,
    "start_time": "2025-09-19T14:35:33.755Z"
   },
   {
    "duration": 25,
    "start_time": "2025-09-19T14:35:34.060Z"
   },
   {
    "duration": 252,
    "start_time": "2025-09-19T14:35:34.087Z"
   },
   {
    "duration": 26,
    "start_time": "2025-09-19T14:35:34.343Z"
   },
   {
    "duration": 477,
    "start_time": "2025-09-19T14:35:34.370Z"
   },
   {
    "duration": 19,
    "start_time": "2025-09-19T14:35:34.856Z"
   },
   {
    "duration": 85,
    "start_time": "2025-09-19T14:35:34.877Z"
   },
   {
    "duration": 4,
    "start_time": "2025-09-19T14:35:34.964Z"
   },
   {
    "duration": 9,
    "start_time": "2025-09-19T14:37:46.570Z"
   },
   {
    "duration": 1515,
    "start_time": "2025-09-19T14:37:46.581Z"
   },
   {
    "duration": 913,
    "start_time": "2025-09-19T14:37:48.098Z"
   },
   {
    "duration": 32,
    "start_time": "2025-09-19T14:37:49.012Z"
   },
   {
    "duration": 167,
    "start_time": "2025-09-19T14:37:49.046Z"
   },
   {
    "duration": 163,
    "start_time": "2025-09-19T14:37:49.214Z"
   },
   {
    "duration": 231,
    "start_time": "2025-09-19T14:37:49.378Z"
   },
   {
    "duration": 103,
    "start_time": "2025-09-19T14:37:49.610Z"
   },
   {
    "duration": 33,
    "start_time": "2025-09-19T14:37:49.715Z"
   },
   {
    "duration": 267,
    "start_time": "2025-09-19T14:37:49.749Z"
   },
   {
    "duration": 248,
    "start_time": "2025-09-19T14:37:50.018Z"
   },
   {
    "duration": 22,
    "start_time": "2025-09-19T14:37:50.268Z"
   },
   {
    "duration": 10,
    "start_time": "2025-09-19T14:37:50.292Z"
   },
   {
    "duration": 75,
    "start_time": "2025-09-19T14:37:50.305Z"
   },
   {
    "duration": 238,
    "start_time": "2025-09-19T14:37:50.382Z"
   },
   {
    "duration": 280,
    "start_time": "2025-09-19T14:37:50.622Z"
   },
   {
    "duration": 18,
    "start_time": "2025-09-19T14:37:50.905Z"
   },
   {
    "duration": 27,
    "start_time": "2025-09-19T14:37:50.925Z"
   },
   {
    "duration": 57,
    "start_time": "2025-09-19T14:37:50.957Z"
   },
   {
    "duration": 253,
    "start_time": "2025-09-19T14:37:51.016Z"
   },
   {
    "duration": 284,
    "start_time": "2025-09-19T14:37:51.271Z"
   },
   {
    "duration": 14,
    "start_time": "2025-09-19T14:37:51.557Z"
   },
   {
    "duration": 8,
    "start_time": "2025-09-19T14:37:51.572Z"
   },
   {
    "duration": 276,
    "start_time": "2025-09-19T14:37:51.582Z"
   },
   {
    "duration": 8,
    "start_time": "2025-09-19T14:37:51.860Z"
   },
   {
    "duration": 33,
    "start_time": "2025-09-19T14:37:51.870Z"
   },
   {
    "duration": 266,
    "start_time": "2025-09-19T14:37:51.904Z"
   },
   {
    "duration": 201,
    "start_time": "2025-09-19T14:37:52.172Z"
   },
   {
    "duration": 285,
    "start_time": "2025-09-19T14:37:52.375Z"
   },
   {
    "duration": 165,
    "start_time": "2025-09-19T14:37:52.661Z"
   },
   {
    "duration": 318,
    "start_time": "2025-09-19T14:37:52.828Z"
   },
   {
    "duration": 27,
    "start_time": "2025-09-19T14:37:53.147Z"
   },
   {
    "duration": 248,
    "start_time": "2025-09-19T14:37:53.176Z"
   },
   {
    "duration": 32,
    "start_time": "2025-09-19T14:37:53.426Z"
   },
   {
    "duration": 501,
    "start_time": "2025-09-19T14:37:53.460Z"
   },
   {
    "duration": 19,
    "start_time": "2025-09-19T14:37:53.963Z"
   },
   {
    "duration": 95,
    "start_time": "2025-09-19T14:37:53.983Z"
   },
   {
    "duration": 4,
    "start_time": "2025-09-19T14:37:54.080Z"
   },
   {
    "duration": 60,
    "start_time": "2025-09-19T14:37:54.086Z"
   },
   {
    "duration": 0,
    "start_time": "2025-09-19T14:37:54.148Z"
   },
   {
    "duration": 12,
    "start_time": "2025-09-19T14:41:16.710Z"
   },
   {
    "duration": 1615,
    "start_time": "2025-09-19T14:41:16.725Z"
   },
   {
    "duration": 1000,
    "start_time": "2025-09-19T14:41:18.348Z"
   },
   {
    "duration": 18,
    "start_time": "2025-09-19T14:41:19.355Z"
   },
   {
    "duration": 208,
    "start_time": "2025-09-19T14:41:19.376Z"
   },
   {
    "duration": 174,
    "start_time": "2025-09-19T14:41:19.586Z"
   },
   {
    "duration": 231,
    "start_time": "2025-09-19T14:41:19.761Z"
   },
   {
    "duration": 96,
    "start_time": "2025-09-19T14:41:19.994Z"
   },
   {
    "duration": 22,
    "start_time": "2025-09-19T14:41:20.092Z"
   },
   {
    "duration": 287,
    "start_time": "2025-09-19T14:41:20.116Z"
   },
   {
    "duration": 259,
    "start_time": "2025-09-19T14:41:20.405Z"
   },
   {
    "duration": 21,
    "start_time": "2025-09-19T14:41:20.666Z"
   },
   {
    "duration": 20,
    "start_time": "2025-09-19T14:41:20.690Z"
   },
   {
    "duration": 99,
    "start_time": "2025-09-19T14:41:20.713Z"
   },
   {
    "duration": 306,
    "start_time": "2025-09-19T14:41:20.813Z"
   },
   {
    "duration": 294,
    "start_time": "2025-09-19T14:41:21.121Z"
   },
   {
    "duration": 30,
    "start_time": "2025-09-19T14:41:21.417Z"
   },
   {
    "duration": 10,
    "start_time": "2025-09-19T14:41:21.449Z"
   },
   {
    "duration": 79,
    "start_time": "2025-09-19T14:41:21.464Z"
   },
   {
    "duration": 261,
    "start_time": "2025-09-19T14:41:21.545Z"
   },
   {
    "duration": 306,
    "start_time": "2025-09-19T14:41:21.808Z"
   },
   {
    "duration": 39,
    "start_time": "2025-09-19T14:41:22.116Z"
   },
   {
    "duration": 8,
    "start_time": "2025-09-19T14:41:22.158Z"
   },
   {
    "duration": 267,
    "start_time": "2025-09-19T14:41:22.168Z"
   },
   {
    "duration": 19,
    "start_time": "2025-09-19T14:41:22.440Z"
   },
   {
    "duration": 31,
    "start_time": "2025-09-19T14:41:22.462Z"
   },
   {
    "duration": 275,
    "start_time": "2025-09-19T14:41:22.495Z"
   },
   {
    "duration": 225,
    "start_time": "2025-09-19T14:41:22.772Z"
   },
   {
    "duration": 358,
    "start_time": "2025-09-19T14:41:22.999Z"
   },
   {
    "duration": 285,
    "start_time": "2025-09-19T14:41:23.360Z"
   },
   {
    "duration": 374,
    "start_time": "2025-09-19T14:41:23.655Z"
   },
   {
    "duration": 27,
    "start_time": "2025-09-19T14:41:24.042Z"
   },
   {
    "duration": 247,
    "start_time": "2025-09-19T14:41:24.071Z"
   },
   {
    "duration": 40,
    "start_time": "2025-09-19T14:41:24.320Z"
   },
   {
    "duration": 530,
    "start_time": "2025-09-19T14:41:24.362Z"
   },
   {
    "duration": 31,
    "start_time": "2025-09-19T14:41:24.895Z"
   },
   {
    "duration": 162,
    "start_time": "2025-09-19T14:41:24.929Z"
   },
   {
    "duration": 6,
    "start_time": "2025-09-19T14:41:25.094Z"
   },
   {
    "duration": 318628,
    "start_time": "2025-09-19T14:41:25.102Z"
   },
   {
    "duration": 24545,
    "start_time": "2025-09-19T14:46:43.739Z"
   },
   {
    "duration": 22755,
    "start_time": "2025-09-19T14:49:08.601Z"
   }
  ],
  "kernelspec": {
   "display_name": "Python 3 (ipykernel)",
   "language": "python",
   "name": "python3"
  },
  "language_info": {
   "codemirror_mode": {
    "name": "ipython",
    "version": 3
   },
   "file_extension": ".py",
   "mimetype": "text/x-python",
   "name": "python",
   "nbconvert_exporter": "python",
   "pygments_lexer": "ipython3",
   "version": "3.9.5"
  },
  "toc": {
   "base_numbering": 1,
   "nav_menu": {},
   "number_sections": true,
   "sideBar": true,
   "skip_h1_title": true,
   "title_cell": "Table of Contents",
   "title_sidebar": "Contents",
   "toc_cell": false,
   "toc_position": {},
   "toc_section_display": true,
   "toc_window_display": false
  }
 },
 "nbformat": 4,
 "nbformat_minor": 2
}
